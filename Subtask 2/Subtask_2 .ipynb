{
  "nbformat": 4,
  "nbformat_minor": 0,
  "metadata": {
    "colab": {
      "name": "Subtask_2.ipynb",
      "provenance": [],
      "collapsed_sections": [],
      "toc_visible": true
    },
    "kernelspec": {
      "name": "python3",
      "display_name": "Python 3"
    },
    "language_info": {
      "name": "python"
    },
    "accelerator": "GPU"
  },
  "cells": [
    {
      "cell_type": "code",
      "metadata": {
        "colab": {
          "base_uri": "https://localhost:8080/"
        },
        "id": "-nNqlideYCEl",
        "outputId": "dfcaee33-4226-4a2b-c7bc-c00eb964da65"
      },
      "source": [
        "\"\"\"\n",
        "getting zippped data file from URL\n",
        "\"\"\"\n",
        "\n",
        "!wget https://www.dropbox.com/s/pan6mutc5xj5kj0/trainPart1.zip\n",
        "    "
      ],
      "execution_count": 1,
      "outputs": [
        {
          "output_type": "stream",
          "text": [
            "--2021-04-08 09:28:53--  https://www.dropbox.com/s/pan6mutc5xj5kj0/trainPart1.zip\n",
            "Resolving www.dropbox.com (www.dropbox.com)... 162.125.80.18, 2620:100:6032:18::a27d:5212\n",
            "Connecting to www.dropbox.com (www.dropbox.com)|162.125.80.18|:443... connected.\n",
            "HTTP request sent, awaiting response... 301 Moved Permanently\n",
            "Location: /s/raw/pan6mutc5xj5kj0/trainPart1.zip [following]\n",
            "--2021-04-08 09:28:53--  https://www.dropbox.com/s/raw/pan6mutc5xj5kj0/trainPart1.zip\n",
            "Reusing existing connection to www.dropbox.com:443.\n",
            "HTTP request sent, awaiting response... 302 Found\n",
            "Location: https://uc13af2a0a296634cf59e3875d8a.dl.dropboxusercontent.com/cd/0/inline/BMPffOpoGXVjJwtHO1ayuQsrSja7QlTKcDK6pb_lQ3wbUxZbGttqcWZ5Wq51QWgmGIYSeJpCpdkjv8vlSJCA7sLCigwaEwkwn4pIN7tuoq4BdF09oTqutiCFUOFWtKW7LFvL32OkcSEoA55TZEmhG7iS/file# [following]\n",
            "--2021-04-08 09:28:53--  https://uc13af2a0a296634cf59e3875d8a.dl.dropboxusercontent.com/cd/0/inline/BMPffOpoGXVjJwtHO1ayuQsrSja7QlTKcDK6pb_lQ3wbUxZbGttqcWZ5Wq51QWgmGIYSeJpCpdkjv8vlSJCA7sLCigwaEwkwn4pIN7tuoq4BdF09oTqutiCFUOFWtKW7LFvL32OkcSEoA55TZEmhG7iS/file\n",
            "Resolving uc13af2a0a296634cf59e3875d8a.dl.dropboxusercontent.com (uc13af2a0a296634cf59e3875d8a.dl.dropboxusercontent.com)... 162.125.80.15, 2620:100:6032:15::a27d:520f\n",
            "Connecting to uc13af2a0a296634cf59e3875d8a.dl.dropboxusercontent.com (uc13af2a0a296634cf59e3875d8a.dl.dropboxusercontent.com)|162.125.80.15|:443... connected.\n",
            "HTTP request sent, awaiting response... 302 Found\n",
            "Location: /cd/0/inline2/BMNe5js8hW2TiCcrXODmNpMvLUWfwKaB2A_IhV7_yPVp_pHl-GVW9SX0809Jpzs_KDujxWNQ9c6JF-CbtiTTG0n99qbPnkBSHaKDec93Z0Nb_36OX5svrVBbMe8DXmh4HvAQ3aauUuFbTzWtaQC7OfSeeQbWO0ReLcgUONihb_iccfdTK6cqQwRlrstyKZFk4OOLsUPV2iW_5eDlRA8Gs5-_zgTA9z3XEa0h6FTKxd3ktuPxwfaNpmYnF8GGV_3RQDE2JihRZnAH7n6Fep9xj7mVEgtejxmKf256YYWuhnZMV9zs8n8GLCH9m5l__VjlXoZiDZnvS7cGO26jL5I_Ng_g7OVq0FNziplqfYqsSvUdnrrn47FP3V9wmrdIup_K-0w/file [following]\n",
            "--2021-04-08 09:28:54--  https://uc13af2a0a296634cf59e3875d8a.dl.dropboxusercontent.com/cd/0/inline2/BMNe5js8hW2TiCcrXODmNpMvLUWfwKaB2A_IhV7_yPVp_pHl-GVW9SX0809Jpzs_KDujxWNQ9c6JF-CbtiTTG0n99qbPnkBSHaKDec93Z0Nb_36OX5svrVBbMe8DXmh4HvAQ3aauUuFbTzWtaQC7OfSeeQbWO0ReLcgUONihb_iccfdTK6cqQwRlrstyKZFk4OOLsUPV2iW_5eDlRA8Gs5-_zgTA9z3XEa0h6FTKxd3ktuPxwfaNpmYnF8GGV_3RQDE2JihRZnAH7n6Fep9xj7mVEgtejxmKf256YYWuhnZMV9zs8n8GLCH9m5l__VjlXoZiDZnvS7cGO26jL5I_Ng_g7OVq0FNziplqfYqsSvUdnrrn47FP3V9wmrdIup_K-0w/file\n",
            "Reusing existing connection to uc13af2a0a296634cf59e3875d8a.dl.dropboxusercontent.com:443.\n",
            "HTTP request sent, awaiting response... 200 OK\n",
            "Length: 10059590 (9.6M) [application/zip]\n",
            "Saving to: ‘trainPart1.zip’\n",
            "\n",
            "trainPart1.zip      100%[===================>]   9.59M  9.56MB/s    in 1.0s    \n",
            "\n",
            "2021-04-08 09:28:56 (9.56 MB/s) - ‘trainPart1.zip’ saved [10059590/10059590]\n",
            "\n"
          ],
          "name": "stdout"
        }
      ]
    },
    {
      "cell_type": "code",
      "metadata": {
        "id": "oWryvLdBYSD4"
      },
      "source": [
        "!unzip trainPart1.zip\n",
        "\n",
        "\"\"\"\n",
        "Unzipping downloded file\n",
        "\"\"\""
      ],
      "execution_count": null,
      "outputs": []
    },
    {
      "cell_type": "code",
      "metadata": {
        "id": "Y_GBsW_0YauR"
      },
      "source": [
        "\"\"\"\n",
        "chaning our working directory to \"train\",\n",
        "Next step will be to rename existing file of 0-9 digits and removing rest of the dataset(a-z,A-Z)\n",
        "\n",
        "\"\"\"\n",
        "\n",
        "import os\n",
        "os.chdir('/content/train')\n",
        "\n"
      ],
      "execution_count": 3,
      "outputs": []
    },
    {
      "cell_type": "code",
      "metadata": {
        "id": "mbrllRFBYfLW"
      },
      "source": [
        "\"\"\"\n",
        "renaming files which contrains dataset for this subtask.\n",
        "(0-9 only)\n",
        "\"\"\"\n",
        "\n",
        "for i in range(1,11):\n",
        "  if i<10:\n",
        "    path='Sample00'+str(i)\n",
        "    os.rename(path, str(i-1))\n",
        "  if i==10:\n",
        "    path='Sample0'+str(i)\n",
        "    os.rename(path, str(i-1))"
      ],
      "execution_count": 4,
      "outputs": []
    },
    {
      "cell_type": "code",
      "metadata": {
        "id": "tIe2emptYhW4"
      },
      "source": [
        "\"\"\"\n",
        "this module helps you in copying and removal of files and directories \n",
        "\"\"\"\n",
        "import shutil"
      ],
      "execution_count": 5,
      "outputs": []
    },
    {
      "cell_type": "code",
      "metadata": {
        "id": "cH-59ZgiYjLW"
      },
      "source": [
        "for i in range(11,63):\n",
        "    path='Sample0'+str(i)\n",
        "    shutil.rmtree(path)  #removing directory at this path\n"
      ],
      "execution_count": 6,
      "outputs": []
    },
    {
      "cell_type": "code",
      "metadata": {
        "id": "JHnQzmJZYkjT"
      },
      "source": [
        "\"\"\"\n",
        "Impoting all neccessory modules for model building, compiling and training\n",
        "\"\"\"\n",
        "\n",
        "import tensorflow as tf\n",
        "from tensorflow import keras\n",
        "from keras import layers\n",
        "import numpy as np\n",
        "import matplotlib.pyplot as plt\n",
        "import os, sys\n",
        "from keras.preprocessing.image import ImageDataGenerator\n",
        "\n"
      ],
      "execution_count": 7,
      "outputs": []
    },
    {
      "cell_type": "markdown",
      "metadata": {
        "id": "sGoXNncxYoLd"
      },
      "source": [
        "### Model Building\n",
        "\n",
        "In this case we have to train on images of 0-9 digits and which is kind of less classes than the last time.\n",
        "It's very obvious that we have small dataset but from last learnings i'm sure that i can build a descent model \n",
        "using this dataset\n",
        "\n",
        "\n",
        "This time the architecture is pretty much same as of the last time, in this model architecture creating a symmetry of last model(subtask 1)  was my first thought, secondary i thought to have more convolutional layers with more connections in exiting connections. \n",
        "\n",
        "So picking my first thought seems to be right choice as last time i got accurary above 90%.  \n",
        "Target is to achieve a descent accuracy this time as well(95%+ is descent. isn't?).   \n",
        "\n",
        "\n",
        "This architecture is inspired by a parallel and series resistance."
      ]
    },
    {
      "cell_type": "code",
      "metadata": {
        "id": "1BfeuS23Yl3j"
      },
      "source": [
        "def MiDasNet():\n",
        "  \"\"\"\n",
        "  As we have connections so working with Sequencial Model is not feasibile.\n",
        "  Hence in this model i'll be using keras Functional API(helps in creating flexible models)\n",
        "\n",
        "  \"\"\"\n",
        "  input=keras.Input(shape=(28,28,1)) #input shape this time is 28*28\n",
        "  input_2=layers.Conv2D(64,3,kernel_initializer='HeNormal',activation='relu',padding='same')(input)# passing input to this conv2d layer\n",
        "  input_2=layers.MaxPooling2D(2,2)(input_2) #applying max pooling\n",
        "  input_3=layers.Conv2D(64,3,padding='same',kernel_initializer='HeNormal',activation='relu')(input_2) #passing input_2 to this conv2d layer\n",
        "\n",
        "\n",
        "  \"\"\"\n",
        "  Now this input_3 will  be used by three layers layer_1,layer_2,layer_3 for leanring more complex features,\n",
        "  Keep in mind that we are using this with kernal_regularizer.\n",
        "  \"\"\"\n",
        "\n",
        "  layer_1=layers.Conv2D(32,1,padding='same',kernel_initializer='HeNormal',activation='relu',kernel_regularizer='l2')(input_3)#connection from input_3 layer to layer_1\n",
        "  layer_1=layers.BatchNormalization()(layer_1)\n",
        "  layer_1=layers.MaxPooling2D(2,2)(layer_1)\n",
        "  layer_1=layers.Dropout(0.3)(layer_1)\n",
        "\n",
        "  layer_2=layers.Conv2D(32,1,kernel_initializer='HeNormal',activation='relu',kernel_regularizer='l2',padding='same')(input_3)#connection from input_3 layer to layer_2\n",
        "  layer_2=layers.BatchNormalization()(layer_2)\n",
        "  layer_2=layers.MaxPooling2D((2,2))(layer_2)\n",
        "  layer_2=layers.Dropout(0.3)(layer_2)\n",
        "\n",
        "\n",
        "  \"\"\"\n",
        "  Padding here is 'same' for keeping dimentions be equal at ending point of connection.\n",
        "  \"\"\"\n",
        "\n",
        "  layer_3=layers.Conv2D(32,1,kernel_initializer='HeNormal',activation='relu',kernel_regularizer='l2',padding='same')(input_3)#connection from input_3 layer to layer_3\n",
        "  layer_3=layers.BatchNormalization()(layer_3)\n",
        "  layer_3=layers.MaxPooling2D((2,2))(layer_3)\n",
        "  layer_3=layers.Dropout(0.3)(layer_3)\n",
        "\n",
        "\n",
        "  \"\"\"\n",
        "  As we have layer_1, layer_2, layer_3 with same output dimention, we can use Add for adding these tensors.\n",
        "  \"\"\"\n",
        "\n",
        "  sum_out=layers.add([layer_1,layer_2,layer_3])\n",
        "    \n",
        "  \"\"\"\n",
        "  Passing this sum_out layer to a conv2d layers for learning more complex features\n",
        "  \"\"\"\n",
        "\n",
        "  input_2_2=layers.Conv2D(64,3,padding='same',kernel_initializer='HeNormal',activation='relu')(sum_out) \n",
        "  input_2_2=layers.MaxPooling2D(2,2)(input_2_2)\n",
        "  input_2_2=layers.Conv2D(64,3,padding='same',kernel_initializer='HeNormal',activation='relu')(input_2_2)\n",
        "\n",
        "\n",
        "  \"\"\"\n",
        "  Now this input_2_2 will  be used by three layers layer_1_1,layer_2_2,layer_3_3 for leanring more complex features,\n",
        "  Keep in mind that we are using this with kernal_regularizer.\n",
        "  \"\"\"\n",
        "    \n",
        "    \n",
        "  layer_1_1=layers.Conv2D(32,1,padding='same',kernel_initializer='HeNormal',activation='relu',kernel_regularizer='l2')(input_2_2) # input from input_2_2 to layer_1_1\n",
        "  layer_1_1=layers.BatchNormalization()(layer_1_1)\n",
        "  layer_1_1=layers.MaxPooling2D(2,2)(layer_1_1)\n",
        "  layer_1_1=layers.Dropout(0.3)(layer_1_1)\n",
        "\n",
        "  layer_2_2=layers.Conv2D(32,1,padding='same',kernel_initializer='HeNormal',activation='relu',kernel_regularizer='l2')(input_2_2) # input from input_2_2 to layer_2_2\n",
        "  layer_2_2=layers.BatchNormalization()(layer_2_2)\n",
        "  layer_2_2=layers.MaxPooling2D((2,2))(layer_2_2)\n",
        "  layer_2_2=layers.Dropout(0.3)(layer_2_2)\n",
        "    \n",
        "  \"\"\"\n",
        "  Padding here is 'same' for keeping dimentions be equal at ending point of connection.\n",
        "  \"\"\"\n",
        "\n",
        "  layer_3_3=layers.Conv2D(32,1,padding='same',kernel_initializer='HeNormal',activation='relu',kernel_regularizer='l2')(input_2_2) # input from input_2_2 to layer_3_3\n",
        "  layer_3_3=layers.BatchNormalization()(layer_3_3)\n",
        "  layer_3_3=layers.MaxPooling2D((2,2))(layer_3_3)\n",
        "  layer_3_3=layers.Dropout(0.3)(layer_3_3)\n",
        "\n",
        "  \"\"\"\n",
        "  As we have layer_1_1, layer_2_2, layer_3_3 with same output dimention, we can use Add for adding these tensors.\n",
        "  \"\"\"\n",
        "  sum_out_2=layers.add([layer_1_1,layer_2_2,layer_3_3])\n",
        "\n",
        "\n",
        "  sum_out_2=layers.GlobalMaxPool2D()(sum_out_2)  #performing global maximum\n",
        "\n",
        "  sum_out_2=layers.Flatten()(sum_out_2)# flattens sum_out_2 tensor to 1d tensor \n",
        "  out=layers.Dense(10,'softmax')(sum_out_2) #output layer\n",
        "  model=keras.Model(input,out,name='MiDasNet')# grouping layer into object  https://www.tensorflow.org/api_docs/python/tf/keras/Model\n",
        "  return model"
      ],
      "execution_count": 8,
      "outputs": []
    },
    {
      "cell_type": "code",
      "metadata": {
        "id": "pOduoVxxYxY5"
      },
      "source": [
        "first_model=MiDasNet()"
      ],
      "execution_count": 9,
      "outputs": []
    },
    {
      "cell_type": "code",
      "metadata": {
        "colab": {
          "base_uri": "https://localhost:8080/"
        },
        "id": "W7a8mF2uY-U8",
        "outputId": "f794381e-92cc-46ed-8c17-5f520a3fc891"
      },
      "source": [
        "first_model.summary() # Summarize all the layers with corresponing #parameters to train."
      ],
      "execution_count": 10,
      "outputs": [
        {
          "output_type": "stream",
          "text": [
            "Model: \"MiDasNet\"\n",
            "__________________________________________________________________________________________________\n",
            "Layer (type)                    Output Shape         Param #     Connected to                     \n",
            "==================================================================================================\n",
            "input_1 (InputLayer)            [(None, 28, 28, 1)]  0                                            \n",
            "__________________________________________________________________________________________________\n",
            "conv2d (Conv2D)                 (None, 28, 28, 64)   640         input_1[0][0]                    \n",
            "__________________________________________________________________________________________________\n",
            "max_pooling2d (MaxPooling2D)    (None, 14, 14, 64)   0           conv2d[0][0]                     \n",
            "__________________________________________________________________________________________________\n",
            "conv2d_1 (Conv2D)               (None, 14, 14, 64)   36928       max_pooling2d[0][0]              \n",
            "__________________________________________________________________________________________________\n",
            "conv2d_2 (Conv2D)               (None, 14, 14, 32)   2080        conv2d_1[0][0]                   \n",
            "__________________________________________________________________________________________________\n",
            "conv2d_3 (Conv2D)               (None, 14, 14, 32)   2080        conv2d_1[0][0]                   \n",
            "__________________________________________________________________________________________________\n",
            "conv2d_4 (Conv2D)               (None, 14, 14, 32)   2080        conv2d_1[0][0]                   \n",
            "__________________________________________________________________________________________________\n",
            "batch_normalization (BatchNorma (None, 14, 14, 32)   128         conv2d_2[0][0]                   \n",
            "__________________________________________________________________________________________________\n",
            "batch_normalization_1 (BatchNor (None, 14, 14, 32)   128         conv2d_3[0][0]                   \n",
            "__________________________________________________________________________________________________\n",
            "batch_normalization_2 (BatchNor (None, 14, 14, 32)   128         conv2d_4[0][0]                   \n",
            "__________________________________________________________________________________________________\n",
            "max_pooling2d_1 (MaxPooling2D)  (None, 7, 7, 32)     0           batch_normalization[0][0]        \n",
            "__________________________________________________________________________________________________\n",
            "max_pooling2d_2 (MaxPooling2D)  (None, 7, 7, 32)     0           batch_normalization_1[0][0]      \n",
            "__________________________________________________________________________________________________\n",
            "max_pooling2d_3 (MaxPooling2D)  (None, 7, 7, 32)     0           batch_normalization_2[0][0]      \n",
            "__________________________________________________________________________________________________\n",
            "dropout (Dropout)               (None, 7, 7, 32)     0           max_pooling2d_1[0][0]            \n",
            "__________________________________________________________________________________________________\n",
            "dropout_1 (Dropout)             (None, 7, 7, 32)     0           max_pooling2d_2[0][0]            \n",
            "__________________________________________________________________________________________________\n",
            "dropout_2 (Dropout)             (None, 7, 7, 32)     0           max_pooling2d_3[0][0]            \n",
            "__________________________________________________________________________________________________\n",
            "add (Add)                       (None, 7, 7, 32)     0           dropout[0][0]                    \n",
            "                                                                 dropout_1[0][0]                  \n",
            "                                                                 dropout_2[0][0]                  \n",
            "__________________________________________________________________________________________________\n",
            "conv2d_5 (Conv2D)               (None, 7, 7, 64)     18496       add[0][0]                        \n",
            "__________________________________________________________________________________________________\n",
            "max_pooling2d_4 (MaxPooling2D)  (None, 3, 3, 64)     0           conv2d_5[0][0]                   \n",
            "__________________________________________________________________________________________________\n",
            "conv2d_6 (Conv2D)               (None, 3, 3, 64)     36928       max_pooling2d_4[0][0]            \n",
            "__________________________________________________________________________________________________\n",
            "conv2d_7 (Conv2D)               (None, 3, 3, 32)     2080        conv2d_6[0][0]                   \n",
            "__________________________________________________________________________________________________\n",
            "conv2d_8 (Conv2D)               (None, 3, 3, 32)     2080        conv2d_6[0][0]                   \n",
            "__________________________________________________________________________________________________\n",
            "conv2d_9 (Conv2D)               (None, 3, 3, 32)     2080        conv2d_6[0][0]                   \n",
            "__________________________________________________________________________________________________\n",
            "batch_normalization_3 (BatchNor (None, 3, 3, 32)     128         conv2d_7[0][0]                   \n",
            "__________________________________________________________________________________________________\n",
            "batch_normalization_4 (BatchNor (None, 3, 3, 32)     128         conv2d_8[0][0]                   \n",
            "__________________________________________________________________________________________________\n",
            "batch_normalization_5 (BatchNor (None, 3, 3, 32)     128         conv2d_9[0][0]                   \n",
            "__________________________________________________________________________________________________\n",
            "max_pooling2d_5 (MaxPooling2D)  (None, 1, 1, 32)     0           batch_normalization_3[0][0]      \n",
            "__________________________________________________________________________________________________\n",
            "max_pooling2d_6 (MaxPooling2D)  (None, 1, 1, 32)     0           batch_normalization_4[0][0]      \n",
            "__________________________________________________________________________________________________\n",
            "max_pooling2d_7 (MaxPooling2D)  (None, 1, 1, 32)     0           batch_normalization_5[0][0]      \n",
            "__________________________________________________________________________________________________\n",
            "dropout_3 (Dropout)             (None, 1, 1, 32)     0           max_pooling2d_5[0][0]            \n",
            "__________________________________________________________________________________________________\n",
            "dropout_4 (Dropout)             (None, 1, 1, 32)     0           max_pooling2d_6[0][0]            \n",
            "__________________________________________________________________________________________________\n",
            "dropout_5 (Dropout)             (None, 1, 1, 32)     0           max_pooling2d_7[0][0]            \n",
            "__________________________________________________________________________________________________\n",
            "add_1 (Add)                     (None, 1, 1, 32)     0           dropout_3[0][0]                  \n",
            "                                                                 dropout_4[0][0]                  \n",
            "                                                                 dropout_5[0][0]                  \n",
            "__________________________________________________________________________________________________\n",
            "global_max_pooling2d (GlobalMax (None, 32)           0           add_1[0][0]                      \n",
            "__________________________________________________________________________________________________\n",
            "flatten (Flatten)               (None, 32)           0           global_max_pooling2d[0][0]       \n",
            "__________________________________________________________________________________________________\n",
            "dense (Dense)                   (None, 10)           330         flatten[0][0]                    \n",
            "==================================================================================================\n",
            "Total params: 106,570\n",
            "Trainable params: 106,186\n",
            "Non-trainable params: 384\n",
            "__________________________________________________________________________________________________\n"
          ],
          "name": "stdout"
        }
      ]
    },
    {
      "cell_type": "code",
      "metadata": {
        "id": "tNPJRFuiZBnf"
      },
      "source": [
        "\"\"\"\n",
        "Compiling model.\n",
        "\"\"\"\n",
        "first_model.compile(tf.keras.optimizers.Adam(learning_rate=0.001),\n",
        "              loss=tf.keras.losses.CategoricalCrossentropy(),\n",
        "              metrics=['accuracy'])"
      ],
      "execution_count": 11,
      "outputs": []
    },
    {
      "cell_type": "code",
      "metadata": {
        "colab": {
          "base_uri": "https://localhost:8080/"
        },
        "id": "f-9UXWvXZF_g",
        "outputId": "b38e2ddd-0df9-439f-9357-e94633453ec1"
      },
      "source": [
        "train_datagen = ImageDataGenerator(rescale = 1./255,\n",
        "                                   data_format='channels_last')\n",
        "\n",
        "\n",
        "\"\"\"\n",
        "ImageDataGenerator is used as Image data augmentation in real-time but here it is used for rescaling and for loading data.\n",
        "flow_from_directory is used which helps in resizing image and creating batch of themand \n",
        "that will be later passed to model as a input.\n",
        "flow_from_directory automatically infers class label with the folder name. \n",
        "\"\"\"\n",
        "\n",
        "training_set = train_datagen.flow_from_directory('/content/train',\n",
        "                                                 target_size = (28, 28),\n",
        "                                                 batch_size = 32,\n",
        "                                                 class_mode = 'categorical',\n",
        "                                                 color_mode='grayscale',\n",
        "                                                 subset=\"training\")"
      ],
      "execution_count": 12,
      "outputs": [
        {
          "output_type": "stream",
          "text": [
            "Found 400 images belonging to 10 classes.\n"
          ],
          "name": "stdout"
        }
      ]
    },
    {
      "cell_type": "code",
      "metadata": {
        "colab": {
          "base_uri": "https://localhost:8080/"
        },
        "id": "BF49yam8ZXc0",
        "outputId": "96df5783-297b-4ab6-ba20-f9f08890523a"
      },
      "source": [
        "training_set.image_shape\n",
        "\n",
        "#output from this generator will have shape of (batch_size,training_set.image_shape)"
      ],
      "execution_count": 13,
      "outputs": [
        {
          "output_type": "execute_result",
          "data": {
            "text/plain": [
              "(28, 28, 1)"
            ]
          },
          "metadata": {
            "tags": []
          },
          "execution_count": 13
        }
      ]
    },
    {
      "cell_type": "code",
      "metadata": {
        "colab": {
          "base_uri": "https://localhost:8080/"
        },
        "id": "M1bEG4tuZcA2",
        "outputId": "de759290-1daa-4159-c812-2d5ce36d5a63"
      },
      "source": [
        "history=first_model.fit(training_set,epochs=100,verbose=1) # train model for 100 epochs"
      ],
      "execution_count": 14,
      "outputs": [
        {
          "output_type": "stream",
          "text": [
            "Epoch 1/100\n",
            "13/13 [==============================] - 36s 457ms/step - loss: 8.2951 - accuracy: 0.1507\n",
            "Epoch 2/100\n",
            "13/13 [==============================] - 6s 467ms/step - loss: 6.6699 - accuracy: 0.1257\n",
            "Epoch 3/100\n",
            "13/13 [==============================] - 6s 472ms/step - loss: 6.2214 - accuracy: 0.1954\n",
            "Epoch 4/100\n",
            "13/13 [==============================] - 6s 469ms/step - loss: 5.6581 - accuracy: 0.2481\n",
            "Epoch 5/100\n",
            "13/13 [==============================] - 6s 491ms/step - loss: 5.4041 - accuracy: 0.2756\n",
            "Epoch 6/100\n",
            "13/13 [==============================] - 6s 471ms/step - loss: 5.1436 - accuracy: 0.3111\n",
            "Epoch 7/100\n",
            "13/13 [==============================] - 6s 472ms/step - loss: 4.8696 - accuracy: 0.4422\n",
            "Epoch 8/100\n",
            "13/13 [==============================] - 6s 469ms/step - loss: 4.6523 - accuracy: 0.4148\n",
            "Epoch 9/100\n",
            "13/13 [==============================] - 6s 469ms/step - loss: 4.4616 - accuracy: 0.4873\n",
            "Epoch 10/100\n",
            "13/13 [==============================] - 6s 468ms/step - loss: 4.2148 - accuracy: 0.5301\n",
            "Epoch 11/100\n",
            "13/13 [==============================] - 6s 471ms/step - loss: 3.9586 - accuracy: 0.5594\n",
            "Epoch 12/100\n",
            "13/13 [==============================] - 6s 470ms/step - loss: 3.7912 - accuracy: 0.6282\n",
            "Epoch 13/100\n",
            "13/13 [==============================] - 6s 475ms/step - loss: 3.7107 - accuracy: 0.6085\n",
            "Epoch 14/100\n",
            "13/13 [==============================] - 6s 470ms/step - loss: 3.5970 - accuracy: 0.5969\n",
            "Epoch 15/100\n",
            "13/13 [==============================] - 6s 469ms/step - loss: 3.4289 - accuracy: 0.6524\n",
            "Epoch 16/100\n",
            "13/13 [==============================] - 6s 469ms/step - loss: 3.1810 - accuracy: 0.6876\n",
            "Epoch 17/100\n",
            "13/13 [==============================] - 6s 473ms/step - loss: 3.1554 - accuracy: 0.6964\n",
            "Epoch 18/100\n",
            "13/13 [==============================] - 6s 471ms/step - loss: 2.9383 - accuracy: 0.7480\n",
            "Epoch 19/100\n",
            "13/13 [==============================] - 6s 469ms/step - loss: 2.8041 - accuracy: 0.7804\n",
            "Epoch 20/100\n",
            "13/13 [==============================] - 6s 469ms/step - loss: 2.7604 - accuracy: 0.7409\n",
            "Epoch 21/100\n",
            "13/13 [==============================] - 6s 471ms/step - loss: 2.6306 - accuracy: 0.7882\n",
            "Epoch 22/100\n",
            "13/13 [==============================] - 6s 473ms/step - loss: 2.6147 - accuracy: 0.7742\n",
            "Epoch 23/100\n",
            "13/13 [==============================] - 6s 472ms/step - loss: 2.4853 - accuracy: 0.7817\n",
            "Epoch 24/100\n",
            "13/13 [==============================] - 6s 468ms/step - loss: 2.3445 - accuracy: 0.8441\n",
            "Epoch 25/100\n",
            "13/13 [==============================] - 6s 466ms/step - loss: 2.1844 - accuracy: 0.8580\n",
            "Epoch 26/100\n",
            "13/13 [==============================] - 6s 469ms/step - loss: 2.2554 - accuracy: 0.8100\n",
            "Epoch 27/100\n",
            "13/13 [==============================] - 6s 470ms/step - loss: 2.0190 - accuracy: 0.8941\n",
            "Epoch 28/100\n",
            "13/13 [==============================] - 6s 471ms/step - loss: 1.9969 - accuracy: 0.9109\n",
            "Epoch 29/100\n",
            "13/13 [==============================] - 6s 471ms/step - loss: 1.8998 - accuracy: 0.9253\n",
            "Epoch 30/100\n",
            "13/13 [==============================] - 6s 474ms/step - loss: 2.1182 - accuracy: 0.8192\n",
            "Epoch 31/100\n",
            "13/13 [==============================] - 6s 471ms/step - loss: 1.9068 - accuracy: 0.8789\n",
            "Epoch 32/100\n",
            "13/13 [==============================] - 6s 473ms/step - loss: 1.9254 - accuracy: 0.8950\n",
            "Epoch 33/100\n",
            "13/13 [==============================] - 6s 473ms/step - loss: 1.8208 - accuracy: 0.8947\n",
            "Epoch 34/100\n",
            "13/13 [==============================] - 6s 468ms/step - loss: 1.7483 - accuracy: 0.9182\n",
            "Epoch 35/100\n",
            "13/13 [==============================] - 6s 469ms/step - loss: 1.6516 - accuracy: 0.9279\n",
            "Epoch 36/100\n",
            "13/13 [==============================] - 6s 471ms/step - loss: 1.5848 - accuracy: 0.9461\n",
            "Epoch 37/100\n",
            "13/13 [==============================] - 6s 472ms/step - loss: 1.5215 - accuracy: 0.9621\n",
            "Epoch 38/100\n",
            "13/13 [==============================] - 6s 470ms/step - loss: 1.5014 - accuracy: 0.9648\n",
            "Epoch 39/100\n",
            "13/13 [==============================] - 6s 472ms/step - loss: 1.4816 - accuracy: 0.9474\n",
            "Epoch 40/100\n",
            "13/13 [==============================] - 6s 470ms/step - loss: 1.4742 - accuracy: 0.9480\n",
            "Epoch 41/100\n",
            "13/13 [==============================] - 6s 470ms/step - loss: 1.4710 - accuracy: 0.9260\n",
            "Epoch 42/100\n",
            "13/13 [==============================] - 6s 493ms/step - loss: 1.3907 - accuracy: 0.9500\n",
            "Epoch 43/100\n",
            "13/13 [==============================] - 6s 474ms/step - loss: 1.3571 - accuracy: 0.9598\n",
            "Epoch 44/100\n",
            "13/13 [==============================] - 6s 472ms/step - loss: 1.3668 - accuracy: 0.9371\n",
            "Epoch 45/100\n",
            "13/13 [==============================] - 6s 471ms/step - loss: 1.2961 - accuracy: 0.9567\n",
            "Epoch 46/100\n",
            "13/13 [==============================] - 6s 471ms/step - loss: 1.2481 - accuracy: 0.9591\n",
            "Epoch 47/100\n",
            "13/13 [==============================] - 6s 477ms/step - loss: 1.2039 - accuracy: 0.9726\n",
            "Epoch 48/100\n",
            "13/13 [==============================] - 6s 470ms/step - loss: 1.2051 - accuracy: 0.9674\n",
            "Epoch 49/100\n",
            "13/13 [==============================] - 6s 470ms/step - loss: 1.1789 - accuracy: 0.9663\n",
            "Epoch 50/100\n",
            "13/13 [==============================] - 6s 475ms/step - loss: 1.1394 - accuracy: 0.9832\n",
            "Epoch 51/100\n",
            "13/13 [==============================] - 6s 471ms/step - loss: 1.1315 - accuracy: 0.9646\n",
            "Epoch 52/100\n",
            "13/13 [==============================] - 6s 469ms/step - loss: 1.0711 - accuracy: 0.9794\n",
            "Epoch 53/100\n",
            "13/13 [==============================] - 6s 470ms/step - loss: 1.0682 - accuracy: 0.9774\n",
            "Epoch 54/100\n",
            "13/13 [==============================] - 6s 471ms/step - loss: 1.0552 - accuracy: 0.9729\n",
            "Epoch 55/100\n",
            "13/13 [==============================] - 6s 472ms/step - loss: 1.0450 - accuracy: 0.9644\n",
            "Epoch 56/100\n",
            "13/13 [==============================] - 6s 473ms/step - loss: 1.0029 - accuracy: 0.9806\n",
            "Epoch 57/100\n",
            "13/13 [==============================] - 6s 469ms/step - loss: 0.9924 - accuracy: 0.9763\n",
            "Epoch 58/100\n",
            "13/13 [==============================] - 6s 471ms/step - loss: 0.9689 - accuracy: 0.9860\n",
            "Epoch 59/100\n",
            "13/13 [==============================] - 6s 491ms/step - loss: 0.9146 - accuracy: 0.9966\n",
            "Epoch 60/100\n",
            "13/13 [==============================] - 6s 473ms/step - loss: 0.9047 - accuracy: 0.9940\n",
            "Epoch 61/100\n",
            "13/13 [==============================] - 6s 472ms/step - loss: 0.9294 - accuracy: 0.9725\n",
            "Epoch 62/100\n",
            "13/13 [==============================] - 6s 474ms/step - loss: 0.8834 - accuracy: 0.9944\n",
            "Epoch 63/100\n",
            "13/13 [==============================] - 6s 473ms/step - loss: 0.8494 - accuracy: 0.9933\n",
            "Epoch 64/100\n",
            "13/13 [==============================] - 6s 468ms/step - loss: 0.8363 - accuracy: 0.9971\n",
            "Epoch 65/100\n",
            "13/13 [==============================] - 6s 471ms/step - loss: 0.8333 - accuracy: 0.9803\n",
            "Epoch 66/100\n",
            "13/13 [==============================] - 6s 471ms/step - loss: 0.8452 - accuracy: 0.9764\n",
            "Epoch 67/100\n",
            "13/13 [==============================] - 6s 471ms/step - loss: 0.8433 - accuracy: 0.9667\n",
            "Epoch 68/100\n",
            "13/13 [==============================] - 6s 472ms/step - loss: 0.8032 - accuracy: 0.9805\n",
            "Epoch 69/100\n",
            "13/13 [==============================] - 6s 475ms/step - loss: 0.8646 - accuracy: 0.9725\n",
            "Epoch 70/100\n",
            "13/13 [==============================] - 6s 474ms/step - loss: 0.7929 - accuracy: 0.9688\n",
            "Epoch 71/100\n",
            "13/13 [==============================] - 6s 479ms/step - loss: 0.7731 - accuracy: 0.9748\n",
            "Epoch 72/100\n",
            "13/13 [==============================] - 6s 473ms/step - loss: 0.7478 - accuracy: 0.9838\n",
            "Epoch 73/100\n",
            "13/13 [==============================] - 6s 475ms/step - loss: 0.7479 - accuracy: 0.9707\n",
            "Epoch 74/100\n",
            "13/13 [==============================] - 6s 472ms/step - loss: 0.7256 - accuracy: 0.9901\n",
            "Epoch 75/100\n",
            "13/13 [==============================] - 6s 469ms/step - loss: 0.7085 - accuracy: 0.9856\n",
            "Epoch 76/100\n",
            "13/13 [==============================] - 6s 472ms/step - loss: 0.6965 - accuracy: 0.9812\n",
            "Epoch 77/100\n",
            "13/13 [==============================] - 6s 473ms/step - loss: 0.6773 - accuracy: 0.9930\n",
            "Epoch 78/100\n",
            "13/13 [==============================] - 6s 472ms/step - loss: 0.6633 - accuracy: 0.9879\n",
            "Epoch 79/100\n",
            "13/13 [==============================] - 6s 471ms/step - loss: 0.6364 - accuracy: 0.9933\n",
            "Epoch 80/100\n",
            "13/13 [==============================] - 6s 468ms/step - loss: 0.6813 - accuracy: 0.9853\n",
            "Epoch 81/100\n",
            "13/13 [==============================] - 6s 472ms/step - loss: 0.6632 - accuracy: 0.9794\n",
            "Epoch 82/100\n",
            "13/13 [==============================] - 6s 472ms/step - loss: 0.6436 - accuracy: 0.9808\n",
            "Epoch 83/100\n",
            "13/13 [==============================] - 6s 472ms/step - loss: 0.6204 - accuracy: 0.9894\n",
            "Epoch 84/100\n",
            "13/13 [==============================] - 6s 468ms/step - loss: 0.6139 - accuracy: 0.9853\n",
            "Epoch 85/100\n",
            "13/13 [==============================] - 6s 472ms/step - loss: 0.6032 - accuracy: 0.9884\n",
            "Epoch 86/100\n",
            "13/13 [==============================] - 6s 474ms/step - loss: 0.5947 - accuracy: 0.9849\n",
            "Epoch 87/100\n",
            "13/13 [==============================] - 6s 492ms/step - loss: 0.6178 - accuracy: 0.9781\n",
            "Epoch 88/100\n",
            "13/13 [==============================] - 6s 475ms/step - loss: 0.6020 - accuracy: 0.9861\n",
            "Epoch 89/100\n",
            "13/13 [==============================] - 6s 474ms/step - loss: 0.5647 - accuracy: 0.9881\n",
            "Epoch 90/100\n",
            "13/13 [==============================] - 6s 472ms/step - loss: 0.6132 - accuracy: 0.9575\n",
            "Epoch 91/100\n",
            "13/13 [==============================] - 6s 473ms/step - loss: 0.5734 - accuracy: 0.9845\n",
            "Epoch 92/100\n",
            "13/13 [==============================] - 6s 472ms/step - loss: 0.6114 - accuracy: 0.9515\n",
            "Epoch 93/100\n",
            "13/13 [==============================] - 6s 472ms/step - loss: 0.5357 - accuracy: 0.9916\n",
            "Epoch 94/100\n",
            "13/13 [==============================] - 6s 475ms/step - loss: 0.5818 - accuracy: 0.9750\n",
            "Epoch 95/100\n",
            "13/13 [==============================] - 6s 476ms/step - loss: 0.5241 - accuracy: 0.9883\n",
            "Epoch 96/100\n",
            "13/13 [==============================] - 6s 479ms/step - loss: 0.5221 - accuracy: 0.9843\n",
            "Epoch 97/100\n",
            "13/13 [==============================] - 6s 471ms/step - loss: 0.5022 - accuracy: 0.9919\n",
            "Epoch 98/100\n",
            "13/13 [==============================] - 6s 467ms/step - loss: 0.5162 - accuracy: 0.9849\n",
            "Epoch 99/100\n",
            "13/13 [==============================] - 6s 472ms/step - loss: 0.5343 - accuracy: 0.9767\n",
            "Epoch 100/100\n",
            "13/13 [==============================] - 6s 475ms/step - loss: 0.4972 - accuracy: 0.9827\n"
          ],
          "name": "stdout"
        }
      ]
    },
    {
      "cell_type": "markdown",
      "metadata": {
        "id": "g_uIZ30AlaMZ"
      },
      "source": [
        "*Still there are chances(possibility) that loss might reduce <.5 but keeping   \n",
        "in mind that we have less data and model can overfit very easily, will see that   \n",
        "when we test this model on mnist dataset*"
      ]
    },
    {
      "cell_type": "markdown",
      "metadata": {
        "id": "i9LwmLKLlZ9j"
      },
      "source": [
        "## Loading MNIST DATA \n",
        "\n",
        "\n",
        "Loading this data is very easy as keras provides this dataset.  \n",
        "Data is in standard train test split i.e.. training set of 60,000 and a test set of 10,000 image dataset"
      ]
    },
    {
      "cell_type": "code",
      "metadata": {
        "id": "xChbVY9OZjH-",
        "colab": {
          "base_uri": "https://localhost:8080/"
        },
        "outputId": "c44f9188-ef25-45ad-f0dc-2dee73731be4"
      },
      "source": [
        "(x_train, y_train), (x_test, y_test)=keras.datasets.mnist.load_data()"
      ],
      "execution_count": 15,
      "outputs": [
        {
          "output_type": "stream",
          "text": [
            "Downloading data from https://storage.googleapis.com/tensorflow/tf-keras-datasets/mnist.npz\n",
            "11493376/11490434 [==============================] - 0s 0us/step\n"
          ],
          "name": "stdout"
        }
      ]
    },
    {
      "cell_type": "code",
      "metadata": {
        "id": "ayK0YCaNgF2S"
      },
      "source": [
        "\"\"\"\n",
        "y_test is 1-D array having values from 0-9., \n",
        "Performing one-hot encoding on them.\n",
        "\"\"\"\n",
        "\n",
        "y_train=tf.one_hot(y_train,depth=10)\n",
        "y_test=tf.one_hot(y_test,depth=10)\n"
      ],
      "execution_count": 16,
      "outputs": []
    },
    {
      "cell_type": "markdown",
      "metadata": {
        "id": "pB-V2wZcmBTj"
      },
      "source": [
        "##### Using pretrained Model"
      ]
    },
    {
      "cell_type": "code",
      "metadata": {
        "colab": {
          "base_uri": "https://localhost:8080/"
        },
        "id": "G19ieDN0gGn7",
        "outputId": "0b410a35-9862-4015-de17-cf5b3255c6d0"
      },
      "source": [
        "\n",
        "\"\"\"\n",
        "Training on pretrained model using MNIST DataSet\n",
        "\"\"\"\n",
        "\n",
        "\n",
        "\n",
        "history2=first_model.fit(x=x_train,y=y_train,batch_size=128,epochs=100,validation_split=0.2,use_multiprocessing=True)"
      ],
      "execution_count": 17,
      "outputs": [
        {
          "output_type": "stream",
          "text": [
            "Epoch 1/100\n",
            "375/375 [==============================] - 11s 26ms/step - loss: 0.6786 - accuracy: 0.9147 - val_loss: 0.4070 - val_accuracy: 0.9710\n",
            "Epoch 2/100\n",
            "375/375 [==============================] - 9s 24ms/step - loss: 0.3536 - accuracy: 0.9688 - val_loss: 0.2900 - val_accuracy: 0.9728\n",
            "Epoch 3/100\n",
            "375/375 [==============================] - 9s 24ms/step - loss: 0.2397 - accuracy: 0.9764 - val_loss: 0.1827 - val_accuracy: 0.9849\n",
            "Epoch 4/100\n",
            "375/375 [==============================] - 9s 24ms/step - loss: 0.1730 - accuracy: 0.9795 - val_loss: 0.1566 - val_accuracy: 0.9793\n",
            "Epoch 5/100\n",
            "375/375 [==============================] - 9s 24ms/step - loss: 0.1345 - accuracy: 0.9820 - val_loss: 0.1132 - val_accuracy: 0.9851\n",
            "Epoch 6/100\n",
            "375/375 [==============================] - 9s 24ms/step - loss: 0.1091 - accuracy: 0.9837 - val_loss: 0.0965 - val_accuracy: 0.9846\n",
            "Epoch 7/100\n",
            "375/375 [==============================] - 9s 24ms/step - loss: 0.0895 - accuracy: 0.9859 - val_loss: 0.1034 - val_accuracy: 0.9808\n",
            "Epoch 8/100\n",
            "375/375 [==============================] - 9s 24ms/step - loss: 0.0767 - accuracy: 0.9869 - val_loss: 0.0694 - val_accuracy: 0.9893\n",
            "Epoch 9/100\n",
            "375/375 [==============================] - 9s 24ms/step - loss: 0.0703 - accuracy: 0.9879 - val_loss: 0.0844 - val_accuracy: 0.9833\n",
            "Epoch 10/100\n",
            "375/375 [==============================] - 9s 24ms/step - loss: 0.0645 - accuracy: 0.9884 - val_loss: 0.0964 - val_accuracy: 0.9808\n",
            "Epoch 11/100\n",
            "375/375 [==============================] - 9s 24ms/step - loss: 0.0616 - accuracy: 0.9885 - val_loss: 0.0681 - val_accuracy: 0.9864\n",
            "Epoch 12/100\n",
            "375/375 [==============================] - 9s 24ms/step - loss: 0.0557 - accuracy: 0.9897 - val_loss: 0.0480 - val_accuracy: 0.9919\n",
            "Epoch 13/100\n",
            "375/375 [==============================] - 9s 24ms/step - loss: 0.0531 - accuracy: 0.9903 - val_loss: 0.0614 - val_accuracy: 0.9878\n",
            "Epoch 14/100\n",
            "375/375 [==============================] - 9s 24ms/step - loss: 0.0509 - accuracy: 0.9903 - val_loss: 0.0606 - val_accuracy: 0.9879\n",
            "Epoch 15/100\n",
            "375/375 [==============================] - 9s 24ms/step - loss: 0.0477 - accuracy: 0.9914 - val_loss: 0.0617 - val_accuracy: 0.9885\n",
            "Epoch 16/100\n",
            "375/375 [==============================] - 9s 24ms/step - loss: 0.0479 - accuracy: 0.9915 - val_loss: 0.0704 - val_accuracy: 0.9856\n",
            "Epoch 17/100\n",
            "375/375 [==============================] - 9s 24ms/step - loss: 0.0483 - accuracy: 0.9911 - val_loss: 0.0580 - val_accuracy: 0.9893\n",
            "Epoch 18/100\n",
            "375/375 [==============================] - 9s 24ms/step - loss: 0.0395 - accuracy: 0.9933 - val_loss: 0.0451 - val_accuracy: 0.9917\n",
            "Epoch 19/100\n",
            "375/375 [==============================] - 9s 24ms/step - loss: 0.0388 - accuracy: 0.9931 - val_loss: 0.0600 - val_accuracy: 0.9902\n",
            "Epoch 20/100\n",
            "375/375 [==============================] - 9s 24ms/step - loss: 0.0408 - accuracy: 0.9930 - val_loss: 0.0548 - val_accuracy: 0.9897\n",
            "Epoch 21/100\n",
            "375/375 [==============================] - 9s 24ms/step - loss: 0.0350 - accuracy: 0.9934 - val_loss: 0.0747 - val_accuracy: 0.9835\n",
            "Epoch 22/100\n",
            "375/375 [==============================] - 9s 25ms/step - loss: 0.0370 - accuracy: 0.9937 - val_loss: 0.0499 - val_accuracy: 0.9906\n",
            "Epoch 23/100\n",
            "375/375 [==============================] - 9s 24ms/step - loss: 0.0349 - accuracy: 0.9936 - val_loss: 0.0434 - val_accuracy: 0.9925\n",
            "Epoch 24/100\n",
            "375/375 [==============================] - 9s 24ms/step - loss: 0.0340 - accuracy: 0.9940 - val_loss: 0.0455 - val_accuracy: 0.9906\n",
            "Epoch 25/100\n",
            "375/375 [==============================] - 9s 24ms/step - loss: 0.0305 - accuracy: 0.9950 - val_loss: 0.0541 - val_accuracy: 0.9891\n",
            "Epoch 26/100\n",
            "375/375 [==============================] - 9s 24ms/step - loss: 0.0364 - accuracy: 0.9935 - val_loss: 0.0545 - val_accuracy: 0.9913\n",
            "Epoch 27/100\n",
            "375/375 [==============================] - 9s 24ms/step - loss: 0.0332 - accuracy: 0.9942 - val_loss: 0.0544 - val_accuracy: 0.9897\n",
            "Epoch 28/100\n",
            "375/375 [==============================] - 9s 24ms/step - loss: 0.0318 - accuracy: 0.9950 - val_loss: 0.0458 - val_accuracy: 0.9920\n",
            "Epoch 29/100\n",
            "375/375 [==============================] - 9s 24ms/step - loss: 0.0296 - accuracy: 0.9954 - val_loss: 0.0636 - val_accuracy: 0.9879\n",
            "Epoch 30/100\n",
            "375/375 [==============================] - 9s 24ms/step - loss: 0.0297 - accuracy: 0.9952 - val_loss: 0.0491 - val_accuracy: 0.9915\n",
            "Epoch 31/100\n",
            "375/375 [==============================] - 9s 24ms/step - loss: 0.0307 - accuracy: 0.9950 - val_loss: 0.0652 - val_accuracy: 0.9869\n",
            "Epoch 32/100\n",
            "375/375 [==============================] - 9s 24ms/step - loss: 0.0293 - accuracy: 0.9956 - val_loss: 0.0438 - val_accuracy: 0.9923\n",
            "Epoch 33/100\n",
            "375/375 [==============================] - 9s 24ms/step - loss: 0.0276 - accuracy: 0.9954 - val_loss: 0.0499 - val_accuracy: 0.9912\n",
            "Epoch 34/100\n",
            "375/375 [==============================] - 9s 24ms/step - loss: 0.0274 - accuracy: 0.9954 - val_loss: 0.0561 - val_accuracy: 0.9907\n",
            "Epoch 35/100\n",
            "375/375 [==============================] - 9s 24ms/step - loss: 0.0248 - accuracy: 0.9962 - val_loss: 0.0666 - val_accuracy: 0.9893\n",
            "Epoch 36/100\n",
            "375/375 [==============================] - 9s 24ms/step - loss: 0.0263 - accuracy: 0.9960 - val_loss: 0.0508 - val_accuracy: 0.9896\n",
            "Epoch 37/100\n",
            "375/375 [==============================] - 9s 24ms/step - loss: 0.0261 - accuracy: 0.9960 - val_loss: 0.0443 - val_accuracy: 0.9923\n",
            "Epoch 38/100\n",
            "375/375 [==============================] - 9s 24ms/step - loss: 0.0245 - accuracy: 0.9964 - val_loss: 0.0510 - val_accuracy: 0.9918\n",
            "Epoch 39/100\n",
            "375/375 [==============================] - 9s 24ms/step - loss: 0.0255 - accuracy: 0.9959 - val_loss: 0.0705 - val_accuracy: 0.9865\n",
            "Epoch 40/100\n",
            "375/375 [==============================] - 9s 24ms/step - loss: 0.0230 - accuracy: 0.9968 - val_loss: 0.0536 - val_accuracy: 0.9909\n",
            "Epoch 41/100\n",
            "375/375 [==============================] - 9s 24ms/step - loss: 0.0235 - accuracy: 0.9968 - val_loss: 0.0445 - val_accuracy: 0.9923\n",
            "Epoch 42/100\n",
            "375/375 [==============================] - 9s 24ms/step - loss: 0.0257 - accuracy: 0.9960 - val_loss: 0.0450 - val_accuracy: 0.9937\n",
            "Epoch 43/100\n",
            "375/375 [==============================] - 9s 24ms/step - loss: 0.0222 - accuracy: 0.9970 - val_loss: 0.0400 - val_accuracy: 0.9936\n",
            "Epoch 44/100\n",
            "375/375 [==============================] - 9s 24ms/step - loss: 0.0241 - accuracy: 0.9966 - val_loss: 0.0607 - val_accuracy: 0.9891\n",
            "Epoch 45/100\n",
            "375/375 [==============================] - 9s 24ms/step - loss: 0.0224 - accuracy: 0.9969 - val_loss: 0.0520 - val_accuracy: 0.9917\n",
            "Epoch 46/100\n",
            "375/375 [==============================] - 9s 24ms/step - loss: 0.0241 - accuracy: 0.9964 - val_loss: 0.0632 - val_accuracy: 0.9889\n",
            "Epoch 47/100\n",
            "375/375 [==============================] - 9s 24ms/step - loss: 0.0210 - accuracy: 0.9974 - val_loss: 0.0602 - val_accuracy: 0.9907\n",
            "Epoch 48/100\n",
            "375/375 [==============================] - 9s 24ms/step - loss: 0.0227 - accuracy: 0.9971 - val_loss: 0.0488 - val_accuracy: 0.9904\n",
            "Epoch 49/100\n",
            "375/375 [==============================] - 9s 24ms/step - loss: 0.0191 - accuracy: 0.9978 - val_loss: 0.0557 - val_accuracy: 0.9898\n",
            "Epoch 50/100\n",
            "375/375 [==============================] - 9s 24ms/step - loss: 0.0209 - accuracy: 0.9973 - val_loss: 0.0458 - val_accuracy: 0.9923\n",
            "Epoch 51/100\n",
            "375/375 [==============================] - 9s 24ms/step - loss: 0.0225 - accuracy: 0.9970 - val_loss: 0.0515 - val_accuracy: 0.9921\n",
            "Epoch 52/100\n",
            "375/375 [==============================] - 9s 24ms/step - loss: 0.0214 - accuracy: 0.9974 - val_loss: 0.0617 - val_accuracy: 0.9902\n",
            "Epoch 53/100\n",
            "375/375 [==============================] - 9s 24ms/step - loss: 0.0206 - accuracy: 0.9974 - val_loss: 0.0529 - val_accuracy: 0.9908\n",
            "Epoch 54/100\n",
            "375/375 [==============================] - 9s 24ms/step - loss: 0.0180 - accuracy: 0.9978 - val_loss: 0.0534 - val_accuracy: 0.9904\n",
            "Epoch 55/100\n",
            "375/375 [==============================] - 9s 24ms/step - loss: 0.0221 - accuracy: 0.9969 - val_loss: 0.0574 - val_accuracy: 0.9904\n",
            "Epoch 56/100\n",
            "375/375 [==============================] - 9s 24ms/step - loss: 0.0182 - accuracy: 0.9978 - val_loss: 0.0494 - val_accuracy: 0.9927\n",
            "Epoch 57/100\n",
            "375/375 [==============================] - 9s 24ms/step - loss: 0.0217 - accuracy: 0.9971 - val_loss: 0.0473 - val_accuracy: 0.9917\n",
            "Epoch 58/100\n",
            "375/375 [==============================] - 9s 24ms/step - loss: 0.0177 - accuracy: 0.9980 - val_loss: 0.0481 - val_accuracy: 0.9920\n",
            "Epoch 59/100\n",
            "375/375 [==============================] - 9s 24ms/step - loss: 0.0213 - accuracy: 0.9974 - val_loss: 0.0586 - val_accuracy: 0.9912\n",
            "Epoch 60/100\n",
            "375/375 [==============================] - 9s 24ms/step - loss: 0.0207 - accuracy: 0.9974 - val_loss: 0.0635 - val_accuracy: 0.9893\n",
            "Epoch 61/100\n",
            "375/375 [==============================] - 9s 24ms/step - loss: 0.0182 - accuracy: 0.9980 - val_loss: 0.0559 - val_accuracy: 0.9912\n",
            "Epoch 62/100\n",
            "375/375 [==============================] - 9s 24ms/step - loss: 0.0207 - accuracy: 0.9971 - val_loss: 0.0501 - val_accuracy: 0.9927\n",
            "Epoch 63/100\n",
            "375/375 [==============================] - 9s 24ms/step - loss: 0.0203 - accuracy: 0.9975 - val_loss: 0.0509 - val_accuracy: 0.9918\n",
            "Epoch 64/100\n",
            "375/375 [==============================] - 9s 24ms/step - loss: 0.0166 - accuracy: 0.9979 - val_loss: 0.0577 - val_accuracy: 0.9912\n",
            "Epoch 65/100\n",
            "375/375 [==============================] - 9s 24ms/step - loss: 0.0179 - accuracy: 0.9979 - val_loss: 0.0576 - val_accuracy: 0.9904\n",
            "Epoch 66/100\n",
            "375/375 [==============================] - 9s 24ms/step - loss: 0.0173 - accuracy: 0.9979 - val_loss: 0.0596 - val_accuracy: 0.9900\n",
            "Epoch 67/100\n",
            "375/375 [==============================] - 9s 24ms/step - loss: 0.0181 - accuracy: 0.9982 - val_loss: 0.0581 - val_accuracy: 0.9915\n",
            "Epoch 68/100\n",
            "375/375 [==============================] - 9s 24ms/step - loss: 0.0217 - accuracy: 0.9976 - val_loss: 0.0547 - val_accuracy: 0.9918\n",
            "Epoch 69/100\n",
            "375/375 [==============================] - 9s 24ms/step - loss: 0.0173 - accuracy: 0.9982 - val_loss: 0.0494 - val_accuracy: 0.9907\n",
            "Epoch 70/100\n",
            "375/375 [==============================] - 9s 24ms/step - loss: 0.0204 - accuracy: 0.9974 - val_loss: 0.0626 - val_accuracy: 0.9906\n",
            "Epoch 71/100\n",
            "375/375 [==============================] - 9s 24ms/step - loss: 0.0172 - accuracy: 0.9981 - val_loss: 0.0533 - val_accuracy: 0.9904\n",
            "Epoch 72/100\n",
            "375/375 [==============================] - 9s 24ms/step - loss: 0.0188 - accuracy: 0.9973 - val_loss: 0.0533 - val_accuracy: 0.9905\n",
            "Epoch 73/100\n",
            "375/375 [==============================] - 9s 24ms/step - loss: 0.0174 - accuracy: 0.9979 - val_loss: 0.0567 - val_accuracy: 0.9918\n",
            "Epoch 74/100\n",
            "375/375 [==============================] - 9s 24ms/step - loss: 0.0144 - accuracy: 0.9984 - val_loss: 0.0488 - val_accuracy: 0.9905\n",
            "Epoch 75/100\n",
            "375/375 [==============================] - 9s 24ms/step - loss: 0.0182 - accuracy: 0.9975 - val_loss: 0.0688 - val_accuracy: 0.9893\n",
            "Epoch 76/100\n",
            "375/375 [==============================] - 9s 24ms/step - loss: 0.0147 - accuracy: 0.9988 - val_loss: 0.0465 - val_accuracy: 0.9920\n",
            "Epoch 77/100\n",
            "375/375 [==============================] - 9s 24ms/step - loss: 0.0192 - accuracy: 0.9977 - val_loss: 0.0590 - val_accuracy: 0.9908\n",
            "Epoch 78/100\n",
            "375/375 [==============================] - 9s 24ms/step - loss: 0.0168 - accuracy: 0.9980 - val_loss: 0.0634 - val_accuracy: 0.9895\n",
            "Epoch 79/100\n",
            "375/375 [==============================] - 9s 24ms/step - loss: 0.0176 - accuracy: 0.9981 - val_loss: 0.0493 - val_accuracy: 0.9919\n",
            "Epoch 80/100\n",
            "375/375 [==============================] - 9s 24ms/step - loss: 0.0183 - accuracy: 0.9980 - val_loss: 0.0601 - val_accuracy: 0.9905\n",
            "Epoch 81/100\n",
            "375/375 [==============================] - 9s 24ms/step - loss: 0.0173 - accuracy: 0.9983 - val_loss: 0.0519 - val_accuracy: 0.9919\n",
            "Epoch 82/100\n",
            "375/375 [==============================] - 9s 24ms/step - loss: 0.0175 - accuracy: 0.9982 - val_loss: 0.0439 - val_accuracy: 0.9927\n",
            "Epoch 83/100\n",
            "375/375 [==============================] - 9s 24ms/step - loss: 0.0174 - accuracy: 0.9979 - val_loss: 0.0572 - val_accuracy: 0.9912\n",
            "Epoch 84/100\n",
            "375/375 [==============================] - 9s 24ms/step - loss: 0.0162 - accuracy: 0.9983 - val_loss: 0.0528 - val_accuracy: 0.9909\n",
            "Epoch 85/100\n",
            "375/375 [==============================] - 9s 24ms/step - loss: 0.0147 - accuracy: 0.9988 - val_loss: 0.0613 - val_accuracy: 0.9906\n",
            "Epoch 86/100\n",
            "375/375 [==============================] - 9s 24ms/step - loss: 0.0143 - accuracy: 0.9985 - val_loss: 0.0888 - val_accuracy: 0.9869\n",
            "Epoch 87/100\n",
            "375/375 [==============================] - 9s 24ms/step - loss: 0.0181 - accuracy: 0.9979 - val_loss: 0.0688 - val_accuracy: 0.9887\n",
            "Epoch 88/100\n",
            "375/375 [==============================] - 9s 24ms/step - loss: 0.0193 - accuracy: 0.9980 - val_loss: 0.0542 - val_accuracy: 0.9917\n",
            "Epoch 89/100\n",
            "375/375 [==============================] - 9s 24ms/step - loss: 0.0141 - accuracy: 0.9987 - val_loss: 0.0527 - val_accuracy: 0.9914\n",
            "Epoch 90/100\n",
            "375/375 [==============================] - 9s 24ms/step - loss: 0.0181 - accuracy: 0.9977 - val_loss: 0.0633 - val_accuracy: 0.9908\n",
            "Epoch 91/100\n",
            "375/375 [==============================] - 9s 24ms/step - loss: 0.0137 - accuracy: 0.9991 - val_loss: 0.0495 - val_accuracy: 0.9911\n",
            "Epoch 92/100\n",
            "375/375 [==============================] - 9s 24ms/step - loss: 0.0160 - accuracy: 0.9981 - val_loss: 0.0899 - val_accuracy: 0.9880\n",
            "Epoch 93/100\n",
            "375/375 [==============================] - 9s 24ms/step - loss: 0.0187 - accuracy: 0.9981 - val_loss: 0.0502 - val_accuracy: 0.9917\n",
            "Epoch 94/100\n",
            "375/375 [==============================] - 9s 24ms/step - loss: 0.0152 - accuracy: 0.9984 - val_loss: 0.0521 - val_accuracy: 0.9919\n",
            "Epoch 95/100\n",
            "375/375 [==============================] - 9s 24ms/step - loss: 0.0165 - accuracy: 0.9984 - val_loss: 0.0603 - val_accuracy: 0.9911\n",
            "Epoch 96/100\n",
            "375/375 [==============================] - 9s 24ms/step - loss: 0.0141 - accuracy: 0.9985 - val_loss: 0.0597 - val_accuracy: 0.9906\n",
            "Epoch 97/100\n",
            "375/375 [==============================] - 9s 24ms/step - loss: 0.0154 - accuracy: 0.9983 - val_loss: 0.0628 - val_accuracy: 0.9893\n",
            "Epoch 98/100\n",
            "375/375 [==============================] - 9s 24ms/step - loss: 0.0155 - accuracy: 0.9985 - val_loss: 0.0508 - val_accuracy: 0.9918\n",
            "Epoch 99/100\n",
            "375/375 [==============================] - 9s 24ms/step - loss: 0.0167 - accuracy: 0.9982 - val_loss: 0.0452 - val_accuracy: 0.9930\n",
            "Epoch 100/100\n",
            "375/375 [==============================] - 9s 24ms/step - loss: 0.0161 - accuracy: 0.9985 - val_loss: 0.0589 - val_accuracy: 0.9912\n"
          ],
          "name": "stdout"
        }
      ]
    },
    {
      "cell_type": "markdown",
      "metadata": {
        "id": "EKNdlAqhmgZ7"
      },
      "source": [
        "##### Using Randomly Initialized Network"
      ]
    },
    {
      "cell_type": "code",
      "metadata": {
        "id": "UzOfLf4Cmcw8"
      },
      "source": [
        "def SimpleModel():\n",
        "\n",
        "    model= keras.Sequential() #it's sequential model\n",
        "    model.add(layers.Conv2D(64,3,input_shape=(28,28,1),activation='relu',kernel_initializer='HeUniform')) #adding convolution layer \n",
        "    model.add(layers.MaxPool2D(pool_size=(2,2),data_format=\"channels_last\")) # maxpooing the previous layer\n",
        "    model.add(layers.Dropout(rate=0.3)) #helps as a regularizer(weak)\n",
        "\n",
        "    model.add(layers.Conv2D(32,kernel_size=(3,3),activation='relu',kernel_initializer='HeUniform'))\n",
        "    model.add(layers.MaxPool2D(pool_size=(2,2),data_format=\"channels_last\"))\n",
        "    model.add(layers.Dropout(rate=0.3))\n",
        "\n",
        "    model.add(layers.Conv2D(32,kernel_size=(3,3),activation='relu',kernel_initializer='HeUniform'))\n",
        "    model.add(layers.MaxPool2D(pool_size=(2,2),data_format=\"channels_last\"))\n",
        "    model.add(layers.BatchNormalization())\n",
        "    model.add(layers.Dropout(rate=0.3))\n",
        "\n",
        "\n",
        "    model.add(layers.Flatten())  # flattens everything form last layer\n",
        "\n",
        "    model.add(layers.Dense(16,activation='relu',kernel_initializer='HeUniform')) #adding dense layer\n",
        "    model.add(layers.BatchNormalization()) # Performing BatchNormalization on that\n",
        "    model.add(layers.Dropout(rate=0.3))\n",
        "\n",
        "    model.add(layers.Dense(10,activation='softmax')) #Output layer\n",
        "\n",
        "    return model"
      ],
      "execution_count": 18,
      "outputs": []
    },
    {
      "cell_type": "code",
      "metadata": {
        "colab": {
          "base_uri": "https://localhost:8080/"
        },
        "id": "HOFi9QJhugbs",
        "outputId": "c347083a-a103-4676-eb73-be8d4a02a719"
      },
      "source": [
        "second_model=SimpleModel()\n",
        "second_model.summary() # Summarize all the layers with corresponing parameters to learn."
      ],
      "execution_count": 19,
      "outputs": [
        {
          "output_type": "stream",
          "text": [
            "Model: \"sequential\"\n",
            "_________________________________________________________________\n",
            "Layer (type)                 Output Shape              Param #   \n",
            "=================================================================\n",
            "conv2d_10 (Conv2D)           (None, 26, 26, 64)        640       \n",
            "_________________________________________________________________\n",
            "max_pooling2d_8 (MaxPooling2 (None, 13, 13, 64)        0         \n",
            "_________________________________________________________________\n",
            "dropout_6 (Dropout)          (None, 13, 13, 64)        0         \n",
            "_________________________________________________________________\n",
            "conv2d_11 (Conv2D)           (None, 11, 11, 32)        18464     \n",
            "_________________________________________________________________\n",
            "max_pooling2d_9 (MaxPooling2 (None, 5, 5, 32)          0         \n",
            "_________________________________________________________________\n",
            "dropout_7 (Dropout)          (None, 5, 5, 32)          0         \n",
            "_________________________________________________________________\n",
            "conv2d_12 (Conv2D)           (None, 3, 3, 32)          9248      \n",
            "_________________________________________________________________\n",
            "max_pooling2d_10 (MaxPooling (None, 1, 1, 32)          0         \n",
            "_________________________________________________________________\n",
            "batch_normalization_6 (Batch (None, 1, 1, 32)          128       \n",
            "_________________________________________________________________\n",
            "dropout_8 (Dropout)          (None, 1, 1, 32)          0         \n",
            "_________________________________________________________________\n",
            "flatten_1 (Flatten)          (None, 32)                0         \n",
            "_________________________________________________________________\n",
            "dense_1 (Dense)              (None, 16)                528       \n",
            "_________________________________________________________________\n",
            "batch_normalization_7 (Batch (None, 16)                64        \n",
            "_________________________________________________________________\n",
            "dropout_9 (Dropout)          (None, 16)                0         \n",
            "_________________________________________________________________\n",
            "dense_2 (Dense)              (None, 10)                170       \n",
            "=================================================================\n",
            "Total params: 29,242\n",
            "Trainable params: 29,146\n",
            "Non-trainable params: 96\n",
            "_________________________________________________________________\n"
          ],
          "name": "stdout"
        }
      ]
    },
    {
      "cell_type": "code",
      "metadata": {
        "id": "R_j6aw_8upYN"
      },
      "source": [
        "\"\"\"\n",
        "Compiling model.\n",
        "\"\"\"\n",
        "\n",
        "second_model.compile(tf.keras.optimizers.Adam(learning_rate=0.009), #using adam optimizer\n",
        "              loss=tf.keras.losses.CategoricalCrossentropy(), # we have multiclass-classification problem\n",
        "              metrics=['accuracy']) #measures models performance\n"
      ],
      "execution_count": 20,
      "outputs": []
    },
    {
      "cell_type": "code",
      "metadata": {
        "id": "8sTBsRLOwrI1"
      },
      "source": [
        "x_train = x_train.reshape(-1, 28, 28, 1)\n",
        "x_test = x_test.reshape(-1, 28, 28, 1)\n",
        "\n",
        "\n",
        "# y_train=tf.one_hot(y_train,depth=10)\n",
        "# y_test=tf.one_hot(y_test,depth=10)\n"
      ],
      "execution_count": 21,
      "outputs": []
    },
    {
      "cell_type": "code",
      "metadata": {
        "colab": {
          "base_uri": "https://localhost:8080/"
        },
        "id": "4J_2unzXvBrb",
        "outputId": "ef875a09-7cb8-4ff6-d624-ab9dc1e20712"
      },
      "source": [
        "his=second_model.fit(x=x_train,y=y_train,batch_size=128,epochs=100)"
      ],
      "execution_count": 22,
      "outputs": [
        {
          "output_type": "stream",
          "text": [
            "Epoch 1/100\n",
            "469/469 [==============================] - 6s 11ms/step - loss: 1.0512 - accuracy: 0.6518\n",
            "Epoch 2/100\n",
            "469/469 [==============================] - 5s 11ms/step - loss: 0.2987 - accuracy: 0.9103\n",
            "Epoch 3/100\n",
            "469/469 [==============================] - 5s 11ms/step - loss: 0.2422 - accuracy: 0.9296\n",
            "Epoch 4/100\n",
            "469/469 [==============================] - 5s 11ms/step - loss: 0.2098 - accuracy: 0.9385\n",
            "Epoch 5/100\n",
            "469/469 [==============================] - 5s 11ms/step - loss: 0.1970 - accuracy: 0.9419\n",
            "Epoch 6/100\n",
            "469/469 [==============================] - 5s 11ms/step - loss: 0.1838 - accuracy: 0.9463\n",
            "Epoch 7/100\n",
            "469/469 [==============================] - 5s 11ms/step - loss: 0.1764 - accuracy: 0.9489\n",
            "Epoch 8/100\n",
            "469/469 [==============================] - 5s 11ms/step - loss: 0.1707 - accuracy: 0.9517\n",
            "Epoch 9/100\n",
            "469/469 [==============================] - 5s 11ms/step - loss: 0.1630 - accuracy: 0.9531\n",
            "Epoch 10/100\n",
            "469/469 [==============================] - 5s 11ms/step - loss: 0.1680 - accuracy: 0.9528\n",
            "Epoch 11/100\n",
            "469/469 [==============================] - 5s 11ms/step - loss: 0.1577 - accuracy: 0.9557\n",
            "Epoch 12/100\n",
            "469/469 [==============================] - 5s 11ms/step - loss: 0.1539 - accuracy: 0.9568\n",
            "Epoch 13/100\n",
            "469/469 [==============================] - 5s 11ms/step - loss: 0.1477 - accuracy: 0.9570\n",
            "Epoch 14/100\n",
            "469/469 [==============================] - 5s 11ms/step - loss: 0.1461 - accuracy: 0.9589\n",
            "Epoch 15/100\n",
            "469/469 [==============================] - 5s 11ms/step - loss: 0.1488 - accuracy: 0.9573\n",
            "Epoch 16/100\n",
            "469/469 [==============================] - 5s 11ms/step - loss: 0.1462 - accuracy: 0.9590\n",
            "Epoch 17/100\n",
            "469/469 [==============================] - 5s 11ms/step - loss: 0.1439 - accuracy: 0.9583\n",
            "Epoch 18/100\n",
            "469/469 [==============================] - 5s 11ms/step - loss: 0.1434 - accuracy: 0.9584\n",
            "Epoch 19/100\n",
            "469/469 [==============================] - 5s 11ms/step - loss: 0.1441 - accuracy: 0.9596\n",
            "Epoch 20/100\n",
            "469/469 [==============================] - 5s 11ms/step - loss: 0.1400 - accuracy: 0.9590\n",
            "Epoch 21/100\n",
            "469/469 [==============================] - 5s 11ms/step - loss: 0.1358 - accuracy: 0.9609\n",
            "Epoch 22/100\n",
            "469/469 [==============================] - 5s 11ms/step - loss: 0.1313 - accuracy: 0.9615\n",
            "Epoch 23/100\n",
            "469/469 [==============================] - 5s 11ms/step - loss: 0.1338 - accuracy: 0.9627\n",
            "Epoch 24/100\n",
            "469/469 [==============================] - 5s 11ms/step - loss: 0.1301 - accuracy: 0.9619\n",
            "Epoch 25/100\n",
            "469/469 [==============================] - 5s 11ms/step - loss: 0.1307 - accuracy: 0.9631\n",
            "Epoch 26/100\n",
            "469/469 [==============================] - 5s 11ms/step - loss: 0.1274 - accuracy: 0.9636\n",
            "Epoch 27/100\n",
            "469/469 [==============================] - 5s 11ms/step - loss: 0.1273 - accuracy: 0.9642\n",
            "Epoch 28/100\n",
            "469/469 [==============================] - 5s 11ms/step - loss: 0.1232 - accuracy: 0.9643\n",
            "Epoch 29/100\n",
            "469/469 [==============================] - 5s 11ms/step - loss: 0.1288 - accuracy: 0.9641\n",
            "Epoch 30/100\n",
            "469/469 [==============================] - 5s 11ms/step - loss: 0.1235 - accuracy: 0.9637\n",
            "Epoch 31/100\n",
            "469/469 [==============================] - 5s 11ms/step - loss: 0.1207 - accuracy: 0.9651\n",
            "Epoch 32/100\n",
            "469/469 [==============================] - 5s 11ms/step - loss: 0.1158 - accuracy: 0.9670\n",
            "Epoch 33/100\n",
            "469/469 [==============================] - 5s 11ms/step - loss: 0.1220 - accuracy: 0.9652\n",
            "Epoch 34/100\n",
            "469/469 [==============================] - 5s 11ms/step - loss: 0.1190 - accuracy: 0.9655\n",
            "Epoch 35/100\n",
            "469/469 [==============================] - 5s 11ms/step - loss: 0.1178 - accuracy: 0.9650\n",
            "Epoch 36/100\n",
            "469/469 [==============================] - 5s 11ms/step - loss: 0.1156 - accuracy: 0.9684\n",
            "Epoch 37/100\n",
            "469/469 [==============================] - 5s 11ms/step - loss: 0.1189 - accuracy: 0.9664\n",
            "Epoch 38/100\n",
            "469/469 [==============================] - 5s 11ms/step - loss: 0.1145 - accuracy: 0.9673\n",
            "Epoch 39/100\n",
            "469/469 [==============================] - 5s 11ms/step - loss: 0.1169 - accuracy: 0.9660\n",
            "Epoch 40/100\n",
            "469/469 [==============================] - 5s 11ms/step - loss: 0.1179 - accuracy: 0.9664\n",
            "Epoch 41/100\n",
            "469/469 [==============================] - 5s 11ms/step - loss: 0.1154 - accuracy: 0.9673\n",
            "Epoch 42/100\n",
            "469/469 [==============================] - 5s 11ms/step - loss: 0.1132 - accuracy: 0.9673\n",
            "Epoch 43/100\n",
            "469/469 [==============================] - 5s 11ms/step - loss: 0.1210 - accuracy: 0.9649\n",
            "Epoch 44/100\n",
            "469/469 [==============================] - 5s 11ms/step - loss: 0.1114 - accuracy: 0.9685\n",
            "Epoch 45/100\n",
            "469/469 [==============================] - 5s 11ms/step - loss: 0.1184 - accuracy: 0.9666\n",
            "Epoch 46/100\n",
            "469/469 [==============================] - 5s 11ms/step - loss: 0.1089 - accuracy: 0.9684\n",
            "Epoch 47/100\n",
            "469/469 [==============================] - 5s 11ms/step - loss: 0.1045 - accuracy: 0.9700\n",
            "Epoch 48/100\n",
            "469/469 [==============================] - 5s 11ms/step - loss: 0.1075 - accuracy: 0.9687\n",
            "Epoch 49/100\n",
            "469/469 [==============================] - 5s 11ms/step - loss: 0.1141 - accuracy: 0.9664\n",
            "Epoch 50/100\n",
            "469/469 [==============================] - 5s 11ms/step - loss: 0.1121 - accuracy: 0.9674\n",
            "Epoch 51/100\n",
            "469/469 [==============================] - 5s 11ms/step - loss: 0.1083 - accuracy: 0.9687\n",
            "Epoch 52/100\n",
            "469/469 [==============================] - 5s 11ms/step - loss: 0.1128 - accuracy: 0.9678\n",
            "Epoch 53/100\n",
            "469/469 [==============================] - 5s 11ms/step - loss: 0.1089 - accuracy: 0.9692\n",
            "Epoch 54/100\n",
            "469/469 [==============================] - 5s 11ms/step - loss: 0.1125 - accuracy: 0.9663\n",
            "Epoch 55/100\n",
            "469/469 [==============================] - 5s 11ms/step - loss: 0.1121 - accuracy: 0.9683\n",
            "Epoch 56/100\n",
            "469/469 [==============================] - 5s 11ms/step - loss: 0.1066 - accuracy: 0.9696\n",
            "Epoch 57/100\n",
            "469/469 [==============================] - 5s 11ms/step - loss: 0.1067 - accuracy: 0.9687\n",
            "Epoch 58/100\n",
            "469/469 [==============================] - 5s 11ms/step - loss: 0.1040 - accuracy: 0.9703\n",
            "Epoch 59/100\n",
            "469/469 [==============================] - 5s 11ms/step - loss: 0.1057 - accuracy: 0.9698\n",
            "Epoch 60/100\n",
            "469/469 [==============================] - 5s 11ms/step - loss: 0.1018 - accuracy: 0.9708\n",
            "Epoch 61/100\n",
            "469/469 [==============================] - 5s 11ms/step - loss: 0.1044 - accuracy: 0.9693\n",
            "Epoch 62/100\n",
            "469/469 [==============================] - 5s 11ms/step - loss: 0.1056 - accuracy: 0.9698\n",
            "Epoch 63/100\n",
            "469/469 [==============================] - 5s 11ms/step - loss: 0.1026 - accuracy: 0.9703\n",
            "Epoch 64/100\n",
            "469/469 [==============================] - 5s 11ms/step - loss: 0.1094 - accuracy: 0.9688\n",
            "Epoch 65/100\n",
            "469/469 [==============================] - 5s 11ms/step - loss: 0.1033 - accuracy: 0.9708\n",
            "Epoch 66/100\n",
            "469/469 [==============================] - 5s 11ms/step - loss: 0.1055 - accuracy: 0.9698\n",
            "Epoch 67/100\n",
            "469/469 [==============================] - 5s 11ms/step - loss: 0.1074 - accuracy: 0.9698\n",
            "Epoch 68/100\n",
            "469/469 [==============================] - 5s 11ms/step - loss: 0.1089 - accuracy: 0.9680\n",
            "Epoch 69/100\n",
            "469/469 [==============================] - 5s 11ms/step - loss: 0.1034 - accuracy: 0.9706\n",
            "Epoch 70/100\n",
            "469/469 [==============================] - 5s 11ms/step - loss: 0.1037 - accuracy: 0.9702\n",
            "Epoch 71/100\n",
            "469/469 [==============================] - 5s 11ms/step - loss: 0.1003 - accuracy: 0.9722\n",
            "Epoch 72/100\n",
            "469/469 [==============================] - 5s 11ms/step - loss: 0.1036 - accuracy: 0.9694\n",
            "Epoch 73/100\n",
            "469/469 [==============================] - 5s 11ms/step - loss: 0.0994 - accuracy: 0.9714\n",
            "Epoch 74/100\n",
            "469/469 [==============================] - 5s 11ms/step - loss: 0.1019 - accuracy: 0.9709\n",
            "Epoch 75/100\n",
            "469/469 [==============================] - 5s 11ms/step - loss: 0.1014 - accuracy: 0.9702\n",
            "Epoch 76/100\n",
            "469/469 [==============================] - 5s 11ms/step - loss: 0.1037 - accuracy: 0.9700\n",
            "Epoch 77/100\n",
            "469/469 [==============================] - 5s 11ms/step - loss: 0.1019 - accuracy: 0.9705\n",
            "Epoch 78/100\n",
            "469/469 [==============================] - 5s 11ms/step - loss: 0.1005 - accuracy: 0.9698\n",
            "Epoch 79/100\n",
            "469/469 [==============================] - 5s 11ms/step - loss: 0.1041 - accuracy: 0.9704\n",
            "Epoch 80/100\n",
            "469/469 [==============================] - 5s 11ms/step - loss: 0.0995 - accuracy: 0.9707\n",
            "Epoch 81/100\n",
            "469/469 [==============================] - 5s 11ms/step - loss: 0.1009 - accuracy: 0.9709\n",
            "Epoch 82/100\n",
            "469/469 [==============================] - 5s 11ms/step - loss: 0.1007 - accuracy: 0.9714\n",
            "Epoch 83/100\n",
            "469/469 [==============================] - 5s 11ms/step - loss: 0.0982 - accuracy: 0.9708\n",
            "Epoch 84/100\n",
            "469/469 [==============================] - 5s 11ms/step - loss: 0.1033 - accuracy: 0.9713\n",
            "Epoch 85/100\n",
            "469/469 [==============================] - 5s 11ms/step - loss: 0.0991 - accuracy: 0.9713\n",
            "Epoch 86/100\n",
            "469/469 [==============================] - 5s 11ms/step - loss: 0.0957 - accuracy: 0.9728\n",
            "Epoch 87/100\n",
            "469/469 [==============================] - 5s 11ms/step - loss: 0.1054 - accuracy: 0.9694\n",
            "Epoch 88/100\n",
            "469/469 [==============================] - 5s 11ms/step - loss: 0.1003 - accuracy: 0.9713\n",
            "Epoch 89/100\n",
            "469/469 [==============================] - 5s 11ms/step - loss: 0.1004 - accuracy: 0.9714\n",
            "Epoch 90/100\n",
            "469/469 [==============================] - 5s 11ms/step - loss: 0.0984 - accuracy: 0.9720\n",
            "Epoch 91/100\n",
            "469/469 [==============================] - 5s 11ms/step - loss: 0.0969 - accuracy: 0.9711\n",
            "Epoch 92/100\n",
            "469/469 [==============================] - 5s 11ms/step - loss: 0.0976 - accuracy: 0.9723\n",
            "Epoch 93/100\n",
            "469/469 [==============================] - 5s 11ms/step - loss: 0.0974 - accuracy: 0.9731\n",
            "Epoch 94/100\n",
            "469/469 [==============================] - 5s 11ms/step - loss: 0.0979 - accuracy: 0.9712\n",
            "Epoch 95/100\n",
            "469/469 [==============================] - 5s 11ms/step - loss: 0.0958 - accuracy: 0.9729\n",
            "Epoch 96/100\n",
            "469/469 [==============================] - 5s 11ms/step - loss: 0.0969 - accuracy: 0.9720\n",
            "Epoch 97/100\n",
            "469/469 [==============================] - 5s 11ms/step - loss: 0.0971 - accuracy: 0.9721\n",
            "Epoch 98/100\n",
            "469/469 [==============================] - 5s 11ms/step - loss: 0.0958 - accuracy: 0.9726\n",
            "Epoch 99/100\n",
            "469/469 [==============================] - 5s 11ms/step - loss: 0.0906 - accuracy: 0.9734\n",
            "Epoch 100/100\n",
            "469/469 [==============================] - 5s 11ms/step - loss: 0.0970 - accuracy: 0.9722\n"
          ],
          "name": "stdout"
        }
      ]
    },
    {
      "cell_type": "code",
      "metadata": {
        "colab": {
          "base_uri": "https://localhost:8080/",
          "height": 34
        },
        "id": "W-FoIGIMvfgh",
        "outputId": "6e6493c5-2fdf-4a53-e41f-0c5fca5f72a9"
      },
      "source": [
        "tf.__version__"
      ],
      "execution_count": 23,
      "outputs": [
        {
          "output_type": "execute_result",
          "data": {
            "application/vnd.google.colaboratory.intrinsic+json": {
              "type": "string"
            },
            "text/plain": [
              "'2.4.1'"
            ]
          },
          "metadata": {
            "tags": []
          },
          "execution_count": 23
        }
      ]
    },
    {
      "cell_type": "markdown",
      "metadata": {
        "id": "N54iSw2vkKrI"
      },
      "source": [
        "#### Convergence Time"
      ]
    },
    {
      "cell_type": "code",
      "metadata": {
        "colab": {
          "base_uri": "https://localhost:8080/",
          "height": 537
        },
        "id": "kcWZ3_zQlT4e",
        "outputId": "80c6904d-55f9-4143-80d9-23c009ad5884"
      },
      "source": [
        "plt.plot(history2.history['loss'])\n",
        "plt.plot(his.history['loss'])\n",
        "plt.title('model loss')\n",
        "plt.ylabel('loss')\n",
        "plt.xlabel('epoch')\n",
        "plt.legend(['first_model', 'second_model'], loc='bottom left')\n",
        "plt.show()"
      ],
      "execution_count": 24,
      "outputs": [
        {
          "output_type": "stream",
          "text": [
            "/usr/local/lib/python3.7/dist-packages/ipykernel_launcher.py:6: MatplotlibDeprecationWarning: Unrecognized location 'bottom left'. Falling back on 'best'; valid locations are\n",
            "\tbest\n",
            "\tupper right\n",
            "\tupper left\n",
            "\tlower left\n",
            "\tlower right\n",
            "\tright\n",
            "\tcenter left\n",
            "\tcenter right\n",
            "\tlower center\n",
            "\tupper center\n",
            "\tcenter\n",
            "This will raise an exception in 3.3.\n",
            "  \n"
          ],
          "name": "stderr"
        },
        {
          "output_type": "display_data",
          "data": {
            "image/png": "[encoded data removed]",
            "text/plain": [
              "<Figure size 432x288 with 1 Axes>"
            ]
          },
          "metadata": {
            "tags": [],
            "needs_background": "light"
          }
        }
      ]
    },
    {
      "cell_type": "markdown",
      "metadata": {
        "id": "sl-SbvoMmTR5"
      },
      "source": [
        "In can be seen that first_model converges faster than than the second_model"
      ]
    },
    {
      "cell_type": "markdown",
      "metadata": {
        "id": "Ay4kqbsalUgp"
      },
      "source": [
        "#### Comparing model Accuracy"
      ]
    },
    {
      "cell_type": "code",
      "metadata": {
        "id": "0BUNEI0ZyGct",
        "colab": {
          "base_uri": "https://localhost:8080/",
          "height": 537
        },
        "outputId": "4eeb6c96-ae39-4a30-d8dd-13da5eab06d4"
      },
      "source": [
        "plt.plot(history2.history['accuracy'])\n",
        "plt.plot(his.history['accuracy'])\n",
        "plt.title('model accuracy')\n",
        "plt.ylabel('accuracy')\n",
        "plt.xlabel('epoch')\n",
        "plt.legend(['first_model', 'second_model'], loc='bottom left')\n",
        "plt.show()"
      ],
      "execution_count": 25,
      "outputs": [
        {
          "output_type": "stream",
          "text": [
            "/usr/local/lib/python3.7/dist-packages/ipykernel_launcher.py:6: MatplotlibDeprecationWarning: Unrecognized location 'bottom left'. Falling back on 'best'; valid locations are\n",
            "\tbest\n",
            "\tupper right\n",
            "\tupper left\n",
            "\tlower left\n",
            "\tlower right\n",
            "\tright\n",
            "\tcenter left\n",
            "\tcenter right\n",
            "\tlower center\n",
            "\tupper center\n",
            "\tcenter\n",
            "This will raise an exception in 3.3.\n",
            "  \n"
          ],
          "name": "stderr"
        },
        {
          "output_type": "display_data",
          "data": {
            "image/png": "[encoded data removed]",
            "text/plain": [
              "<Figure size 432x288 with 1 Axes>"
            ]
          },
          "metadata": {
            "tags": [],
            "needs_background": "light"
          }
        }
      ]
    },
    {
      "cell_type": "markdown",
      "metadata": {
        "id": "OjmYHH9bmeRa"
      },
      "source": [
        "In can be seen that first_model has good performance in comparison to second_model"
      ]
    },
    {
      "cell_type": "code",
      "metadata": {
        "colab": {
          "base_uri": "https://localhost:8080/"
        },
        "id": "nsp0erKanErj",
        "outputId": "f195fd01-246f-442d-e509-650461db3a74"
      },
      "source": [
        "#Let's check it's performance on MNIST test DATA \n",
        "first_model.evaluate(x=x_test,y=y_test)"
      ],
      "execution_count": 26,
      "outputs": [
        {
          "output_type": "stream",
          "text": [
            "313/313 [==============================] - 2s 5ms/step - loss: 0.0556 - accuracy: 0.9910\n"
          ],
          "name": "stdout"
        },
        {
          "output_type": "execute_result",
          "data": {
            "text/plain": [
              "[0.05557715520262718, 0.9909999966621399]"
            ]
          },
          "metadata": {
            "tags": []
          },
          "execution_count": 26
        }
      ]
    },
    {
      "cell_type": "code",
      "metadata": {
        "colab": {
          "base_uri": "https://localhost:8080/"
        },
        "id": "YvAlw5TCnMjk",
        "outputId": "bf9c3143-95cd-405a-82a7-ec8584af375d"
      },
      "source": [
        "second_model.evaluate(x=x_test,y=y_test)"
      ],
      "execution_count": 27,
      "outputs": [
        {
          "output_type": "stream",
          "text": [
            "313/313 [==============================] - 1s 4ms/step - loss: 0.0370 - accuracy: 0.9892\n"
          ],
          "name": "stdout"
        },
        {
          "output_type": "execute_result",
          "data": {
            "text/plain": [
              "[0.03698917478322983, 0.9891999959945679]"
            ]
          },
          "metadata": {
            "tags": []
          },
          "execution_count": 27
        }
      ]
    },
    {
      "cell_type": "markdown",
      "metadata": {
        "id": "WC171pD2ndpm"
      },
      "source": [
        "Performance on test data is descent."
      ]
    },
    {
      "cell_type": "markdown",
      "metadata": {
        "id": "GAUsEE0yQZht"
      },
      "source": [
        "***Saving Models***"
      ]
    },
    {
      "cell_type": "code",
      "metadata": {
        "id": "BZTAGrAoI4-t"
      },
      "source": [
        "second_model.save('second_modeltask2.h5') # saving weights\n",
        "\n",
        "Modell = second_model.to_json()\n",
        "#save the model architecture to JSON file\n",
        "with open('second_modeltask2.json', 'w') as json_file:\n",
        "    json_file.write(Modell)"
      ],
      "execution_count": 28,
      "outputs": []
    },
    {
      "cell_type": "code",
      "metadata": {
        "id": "zaO00ozyLJsJ"
      },
      "source": [
        "first_model.save('first_modeltask2.h5') # saving weights\n",
        "\n",
        "Modell = first_model.to_json()\n",
        "#save the model architecture to JSON file\n",
        "with open('first_modeltask2.json', 'w') as json_file:\n",
        "    json_file.write(Modell)"
      ],
      "execution_count": 29,
      "outputs": []
    }
  ]
}