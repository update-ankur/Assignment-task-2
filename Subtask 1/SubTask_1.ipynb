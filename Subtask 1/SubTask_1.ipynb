{
  "nbformat": 4,
  "nbformat_minor": 0,
  "metadata": {
    "colab": {
      "name": "SubTask_1.ipynb",
      "provenance": [],
      "collapsed_sections": []
    },
    "kernelspec": {
      "display_name": "Python 3",
      "name": "python3"
    },
    "language_info": {
      "name": "python"
    },
    "accelerator": "GPU"
  },
  "cells": [
    {
      "cell_type": "markdown",
      "metadata": {
        "id": "fiOnBPqxNC_n"
      },
      "source": [
        "## Loading and Processing Data"
      ]
    },
    {
      "cell_type": "code",
      "metadata": {
        "colab": {
          "base_uri": "https://localhost:8080/"
        },
        "id": "_LZzrlrCJB36",
        "outputId": "bb7d2ac5-7f45-4834-b218-fb61fc2c82c3"
      },
      "source": [
        "\"\"\"\n",
        "wget grabs data for you from the web server\n",
        "\"\"\"\n",
        "!wget https://www.dropbox.com/s/pan6mutc5xj5kj0/trainPart1.zip"
      ],
      "execution_count": 2,
      "outputs": [
        {
          "output_type": "stream",
          "text": [
            "--2021-04-08 08:49:39--  https://www.dropbox.com/s/pan6mutc5xj5kj0/trainPart1.zip\n",
            "Resolving www.dropbox.com (www.dropbox.com)... 162.125.1.18, 2620:100:601a:18::a27d:712\n",
            "Connecting to www.dropbox.com (www.dropbox.com)|162.125.1.18|:443... connected.\n",
            "HTTP request sent, awaiting response... 301 Moved Permanently\n",
            "Location: /s/raw/pan6mutc5xj5kj0/trainPart1.zip [following]\n",
            "--2021-04-08 08:49:40--  https://www.dropbox.com/s/raw/pan6mutc5xj5kj0/trainPart1.zip\n",
            "Reusing existing connection to www.dropbox.com:443.\n",
            "HTTP request sent, awaiting response... 302 Found\n",
            "Location: https://uce603be6c828d956a3a6dbf3f7b.dl.dropboxusercontent.com/cd/0/inline/BMOXpiSJeXPrD9ZAd7pwOK7x275HvM-MJfugJtQuLwZqbSo0a-HP8-cblSQTH0ZiNtVxCTMkQ_QLHxzzO4xXpsPyxhTQPXBeopeBbv5eZyrf0RRTAF0ZL3IvY1mw7nhftBayLTR08SKDqxDGTwkJ2-Dk/file# [following]\n",
            "--2021-04-08 08:49:40--  https://uce603be6c828d956a3a6dbf3f7b.dl.dropboxusercontent.com/cd/0/inline/BMOXpiSJeXPrD9ZAd7pwOK7x275HvM-MJfugJtQuLwZqbSo0a-HP8-cblSQTH0ZiNtVxCTMkQ_QLHxzzO4xXpsPyxhTQPXBeopeBbv5eZyrf0RRTAF0ZL3IvY1mw7nhftBayLTR08SKDqxDGTwkJ2-Dk/file\n",
            "Resolving uce603be6c828d956a3a6dbf3f7b.dl.dropboxusercontent.com (uce603be6c828d956a3a6dbf3f7b.dl.dropboxusercontent.com)... 162.125.1.15, 2620:100:6016:15::a27d:10f\n",
            "Connecting to uce603be6c828d956a3a6dbf3f7b.dl.dropboxusercontent.com (uce603be6c828d956a3a6dbf3f7b.dl.dropboxusercontent.com)|162.125.1.15|:443... connected.\n",
            "HTTP request sent, awaiting response... 302 Found\n",
            "Location: /cd/0/inline2/BMP060BVdywb1ELmVV3otPzngnVI8VPpv5h6xPvmVBlaFbMLq99k2mBGd9iuoNku_G4lWShuBAsMNEe5Fx8Tgfm0OwllguaLHlk3FpKgDcHUb2c6olMRamLIh6xIV7oPhtKsBpaUR74SA6yCdGBAuO9bQ4ODfUENLisAE4cP3r5qTyhsSkFKaCvjQF9WO2qOZoHpPWPgMRDA-v4gnI7yj6ad6UYVbe1e8lifkZv0Sq-HYnJriJQsu1mwpZcRtbPSR73WhBnGFuHMivSVnF4imGIncfv93FwIoiIeOXQGlIi1VHwP0F6e-inIv6CJtd6ZWtp-Mef4PMumKTYUdqzM2tLyAXOknb0IgFni83kIGVKSMURJdgE3thvrjTeoSq3yeAs/file [following]\n",
            "--2021-04-08 08:49:40--  https://uce603be6c828d956a3a6dbf3f7b.dl.dropboxusercontent.com/cd/0/inline2/BMP060BVdywb1ELmVV3otPzngnVI8VPpv5h6xPvmVBlaFbMLq99k2mBGd9iuoNku_G4lWShuBAsMNEe5Fx8Tgfm0OwllguaLHlk3FpKgDcHUb2c6olMRamLIh6xIV7oPhtKsBpaUR74SA6yCdGBAuO9bQ4ODfUENLisAE4cP3r5qTyhsSkFKaCvjQF9WO2qOZoHpPWPgMRDA-v4gnI7yj6ad6UYVbe1e8lifkZv0Sq-HYnJriJQsu1mwpZcRtbPSR73WhBnGFuHMivSVnF4imGIncfv93FwIoiIeOXQGlIi1VHwP0F6e-inIv6CJtd6ZWtp-Mef4PMumKTYUdqzM2tLyAXOknb0IgFni83kIGVKSMURJdgE3thvrjTeoSq3yeAs/file\n",
            "Reusing existing connection to uce603be6c828d956a3a6dbf3f7b.dl.dropboxusercontent.com:443.\n",
            "HTTP request sent, awaiting response... 200 OK\n",
            "Length: 10059590 (9.6M) [application/zip]\n",
            "Saving to: ‘trainPart1.zip’\n",
            "\n",
            "trainPart1.zip      100%[===================>]   9.59M  --.-KB/s    in 0.07s   \n",
            "\n",
            "2021-04-08 08:49:41 (136 MB/s) - ‘trainPart1.zip’ saved [10059590/10059590]\n",
            "\n"
          ],
          "name": "stdout"
        }
      ]
    },
    {
      "cell_type": "code",
      "metadata": {
        "id": "rTkEpzxMKu5V"
      },
      "source": [
        "\"\"\"\n",
        "Let's unzip the zip file downloaded above\n",
        "\"\"\"\n",
        "\n",
        "!unzip trainPart1.zip\n",
        "\n",
        "#output for this shell is cleared as this return 2600 lines containing files and folder names inside above zip"
      ],
      "execution_count": null,
      "outputs": []
    },
    {
      "cell_type": "code",
      "metadata": {
        "id": "0Wk1fHNbKxb-"
      },
      "source": [
        "\"\"\"\n",
        "Let's change our working directory to \"train\",\n",
        "The next step will be to rename existing file names to 0-9, A-Z, a-z\n",
        "\"\"\"\n",
        "\n",
        "\n",
        "import os # this module helps you in handling directories and file\n",
        "os.chdir('/content/train')"
      ],
      "execution_count": 4,
      "outputs": []
    },
    {
      "cell_type": "code",
      "metadata": {
        "id": "ocGVoRU6LAcB"
      },
      "source": [
        "\"\"\"\n",
        "Here we are iterating inside the train folder and renaming current file names with class name using \n",
        "ASCII value of each character\n",
        "\"\"\"\n",
        "\n",
        "for i in range(1,63):\n",
        "  if i<10:\n",
        "    path='Sample00'+str(i)\n",
        "    os.rename(path, str(i-1))\n",
        "  if i==10:\n",
        "    path='Sample0'+str(i)\n",
        "    os.rename(path, str(i-1))\n",
        "  elif 10<i<37:\n",
        "    path='Sample0'+str(i)\n",
        "    x =54+i;\n",
        "    os.rename(path,chr(x))\n",
        "  elif 36<i<63:\n",
        "    path='Sample0'+str(i)\n",
        "    x =60+i;\n",
        "    os.rename(path,chr(x))\n"
      ],
      "execution_count": 5,
      "outputs": []
    },
    {
      "cell_type": "code",
      "metadata": {
        "colab": {
          "base_uri": "https://localhost:8080/"
        },
        "id": "jZZGWAN-LLiq",
        "outputId": "928d7ba5-1040-44f4-9baa-f1a32cf14166"
      },
      "source": [
        "ls # listing all the directories and files inside the current working directory"
      ],
      "execution_count": 6,
      "outputs": [
        {
          "output_type": "stream",
          "text": [
            "\u001b[0m\u001b[01;34m0\u001b[0m/  \u001b[01;34m4\u001b[0m/  \u001b[01;34m8\u001b[0m/  \u001b[01;34mb\u001b[0m/  \u001b[01;34md\u001b[0m/  \u001b[01;34mf\u001b[0m/  \u001b[01;34mh\u001b[0m/  \u001b[01;34mj\u001b[0m/  \u001b[01;34ml\u001b[0m/  \u001b[01;34mn\u001b[0m/  \u001b[01;34mp\u001b[0m/  \u001b[01;34mr\u001b[0m/  \u001b[01;34mt\u001b[0m/  \u001b[01;34mv\u001b[0m/  \u001b[01;34mx\u001b[0m/  \u001b[01;34mz\u001b[0m/\n",
            "\u001b[01;34m1\u001b[0m/  \u001b[01;34m5\u001b[0m/  \u001b[01;34m9\u001b[0m/  \u001b[01;34mB\u001b[0m/  \u001b[01;34mD\u001b[0m/  \u001b[01;34mF\u001b[0m/  \u001b[01;34mH\u001b[0m/  \u001b[01;34mJ\u001b[0m/  \u001b[01;34mL\u001b[0m/  \u001b[01;34mN\u001b[0m/  \u001b[01;34mP\u001b[0m/  \u001b[01;34mR\u001b[0m/  \u001b[01;34mT\u001b[0m/  \u001b[01;34mV\u001b[0m/  \u001b[01;34mX\u001b[0m/  \u001b[01;34mZ\u001b[0m/\n",
            "\u001b[01;34m2\u001b[0m/  \u001b[01;34m6\u001b[0m/  \u001b[01;34ma\u001b[0m/  \u001b[01;34mc\u001b[0m/  \u001b[01;34me\u001b[0m/  \u001b[01;34mg\u001b[0m/  \u001b[01;34mi\u001b[0m/  \u001b[01;34mk\u001b[0m/  \u001b[01;34mm\u001b[0m/  \u001b[01;34mo\u001b[0m/  \u001b[01;34mq\u001b[0m/  \u001b[01;34ms\u001b[0m/  \u001b[01;34mu\u001b[0m/  \u001b[01;34mw\u001b[0m/  \u001b[01;34my\u001b[0m/\n",
            "\u001b[01;34m3\u001b[0m/  \u001b[01;34m7\u001b[0m/  \u001b[01;34mA\u001b[0m/  \u001b[01;34mC\u001b[0m/  \u001b[01;34mE\u001b[0m/  \u001b[01;34mG\u001b[0m/  \u001b[01;34mI\u001b[0m/  \u001b[01;34mK\u001b[0m/  \u001b[01;34mM\u001b[0m/  \u001b[01;34mO\u001b[0m/  \u001b[01;34mQ\u001b[0m/  \u001b[01;34mS\u001b[0m/  \u001b[01;34mU\u001b[0m/  \u001b[01;34mW\u001b[0m/  \u001b[01;34mY\u001b[0m/\n"
          ],
          "name": "stdout"
        }
      ]
    },
    {
      "cell_type": "code",
      "metadata": {
        "id": "SLRH9c5WLN6P"
      },
      "source": [
        "# Let's see some images of our dataset"
      ],
      "execution_count": 7,
      "outputs": []
    },
    {
      "cell_type": "code",
      "metadata": {
        "id": "qqEBQtCOLZER"
      },
      "source": [
        "import matplotlib.pyplot as plt\n",
        "#this module helps in plotting data "
      ],
      "execution_count": 8,
      "outputs": []
    },
    {
      "cell_type": "code",
      "metadata": {
        "colab": {
          "base_uri": "https://localhost:8080/",
          "height": 286
        },
        "id": "lh4ZOG2SLn-q",
        "outputId": "8931f0c7-57c2-4da4-caeb-b29a2ef108f4"
      },
      "source": [
        "img=plt.imread('/content/train/1/img002-001.png')\n",
        "plt.imshow(img,cmap=plt.cm.binary)"
      ],
      "execution_count": 9,
      "outputs": [
        {
          "output_type": "execute_result",
          "data": {
            "text/plain": [
              "<matplotlib.image.AxesImage at 0x7f4942b98350>"
            ]
          },
          "metadata": {
            "tags": []
          },
          "execution_count": 9
        },
        {
          "output_type": "display_data",
          "data": {
            "image/png": "[encoded data removed]",
            "text/plain": [
              "<Figure size 432x288 with 1 Axes>"
            ]
          },
          "metadata": {
            "tags": [],
            "needs_background": "light"
          }
        }
      ]
    },
    {
      "cell_type": "code",
      "metadata": {
        "colab": {
          "base_uri": "https://localhost:8080/",
          "height": 286
        },
        "id": "-xmEx_IXLz3S",
        "outputId": "bc6759ff-6cb4-4ef8-ddc1-b4711d44f802"
      },
      "source": [
        "img=plt.imread('/content/train/1/img002-010.png')\n",
        "plt.imshow(img,cmap=plt.cm.binary)"
      ],
      "execution_count": 10,
      "outputs": [
        {
          "output_type": "execute_result",
          "data": {
            "text/plain": [
              "<matplotlib.image.AxesImage at 0x7f494364a650>"
            ]
          },
          "metadata": {
            "tags": []
          },
          "execution_count": 10
        },
        {
          "output_type": "display_data",
          "data": {
            "image/png": "[encoded data removed]",
            "text/plain": [
              "<Figure size 432x288 with 1 Axes>"
            ]
          },
          "metadata": {
            "tags": [],
            "needs_background": "light"
          }
        }
      ]
    },
    {
      "cell_type": "code",
      "metadata": {
        "colab": {
          "base_uri": "https://localhost:8080/",
          "height": 286
        },
        "id": "7Y-Fe1-2MhFO",
        "outputId": "0ce96080-b744-4e2d-98f1-e32050029b25"
      },
      "source": [
        "img=plt.imread('/content/train/0/img001-010.png')\n",
        "plt.imshow(img,cmap=plt.cm.binary)"
      ],
      "execution_count": 11,
      "outputs": [
        {
          "output_type": "execute_result",
          "data": {
            "text/plain": [
              "<matplotlib.image.AxesImage at 0x7f4942a45bd0>"
            ]
          },
          "metadata": {
            "tags": []
          },
          "execution_count": 11
        },
        {
          "output_type": "display_data",
          "data": {
            "image/png": "[encoded data removed]",
            "text/plain": [
              "<Figure size 432x288 with 1 Axes>"
            ]
          },
          "metadata": {
            "tags": [],
            "needs_background": "light"
          }
        }
      ]
    },
    {
      "cell_type": "markdown",
      "metadata": {
        "id": "oWtne1LzM4Q2"
      },
      "source": [
        "Looks like we got some good image dataset to train on."
      ]
    },
    {
      "cell_type": "code",
      "metadata": {
        "colab": {
          "base_uri": "https://localhost:8080/"
        },
        "id": "hH6wwGkWM21i",
        "outputId": "f07af60f-09e3-4f0e-af55-849de77b841c"
      },
      "source": [
        "from keras.preprocessing.image import ImageDataGenerator\n",
        "\n",
        "\n",
        "\"\"\"\n",
        "ImageDataGenerator is used for Image data augmentation in real-time but here it is used for rescaling and loading data.\n",
        "flow_from_directory helps in resizing images and creating a batch that will be passed later to the model as input.\n",
        "flow_from_directory automatically infers class label with the folder name.\n",
        "\"\"\"\n",
        "\n",
        "\n",
        "\n",
        "train_datagen = ImageDataGenerator(rescale = 1./255,  # rescaling the data(MIN-MAX Scaler)\n",
        "                                   data_format='channels_last', # (Batch-Size, height, width, channels)\n",
        "                                   validation_split=0.1) #for checking model's performance after every epoch\n",
        "\n",
        "val_datagen = ImageDataGenerator(rescale = 1./255,\n",
        "                                   data_format='channels_last',\n",
        "                                   validation_split=0.1)\n",
        "\n",
        "\n",
        "\"\"\"\n",
        "The model will be trained only on data available and incase if model performance needs more data we will use augmentation techniques, \n",
        "but for now experimenting with the data we have is the first choice\n",
        "\"\"\"\n",
        "\n",
        "training_set = train_datagen.flow_from_directory('/content/train',  # directory of dataset\n",
        "                                                 target_size = (64, 64), #output image size after loading\n",
        "                                                 batch_size = 64,\n",
        "                                                 class_mode = 'categorical', # we have 62 classes hence it's categorical\n",
        "                                                 color_mode='grayscale',    \n",
        "                                                 subset=\"training\",\n",
        "                                                 shuffle=True)\n",
        "\n",
        "val_set = val_datagen.flow_from_directory('/content/train',\n",
        "                                            target_size = (64,64),\n",
        "                                            batch_size = 64,\n",
        "                                            class_mode = 'categorical',\n",
        "                                            color_mode='grayscale',\n",
        "                                            subset=\"validation\",\n",
        "                                            shuffle=True)"
      ],
      "execution_count": 12,
      "outputs": [
        {
          "output_type": "stream",
          "text": [
            "Found 2232 images belonging to 62 classes.\n",
            "Found 248 images belonging to 62 classes.\n"
          ],
          "name": "stdout"
        }
      ]
    },
    {
      "cell_type": "code",
      "metadata": {
        "colab": {
          "base_uri": "https://localhost:8080/"
        },
        "id": "a5LUxxONVEh8",
        "outputId": "3e7a97fd-8f28-4f82-fc32-5a5ba8869f47"
      },
      "source": [
        "training_set.image_shape\n",
        "\n",
        "#output from this generator will have shape of (batch_size,training_set.image_shape)"
      ],
      "execution_count": 13,
      "outputs": [
        {
          "output_type": "execute_result",
          "data": {
            "text/plain": [
              "(64, 64, 1)"
            ]
          },
          "metadata": {
            "tags": []
          },
          "execution_count": 13
        }
      ]
    },
    {
      "cell_type": "markdown",
      "metadata": {
        "id": "4R3i0ajzNSFp"
      },
      "source": [
        "# Building Models for this subtask"
      ]
    },
    {
      "cell_type": "code",
      "metadata": {
        "id": "toyC4L41MoJ3"
      },
      "source": [
        "# Impoting modules for model building, compiling and training\n",
        "\n",
        "import tensorflow as tf\n",
        "from tensorflow import keras\n",
        "from keras import layers\n",
        "import numpy as np\n",
        "import matplotlib.pyplot as plt\n",
        "import os, sys\n",
        "from keras.preprocessing.image import ImageDataGenerator\n"
      ],
      "execution_count": 14,
      "outputs": []
    },
    {
      "cell_type": "markdown",
      "metadata": {
        "id": "2d9Stk_8Nkgg"
      },
      "source": [
        "### 1. Building Simple Model \n",
        "\n",
        "In the very first step of building, a simple model is a priority.    \n",
        "This lets you think deep how to create more advanced models for this\n",
        "working dataset"
      ]
    },
    {
      "cell_type": "code",
      "metadata": {
        "id": "tW0ZgmyyRA2W"
      },
      "source": [
        "def SimpleModel():\n",
        "\n",
        "    model= keras.Sequential() #it's sequential model\n",
        "    model.add(layers.Conv2D(64,3,input_shape=(64, 64, 1),activation='relu',kernel_initializer='HeUniform')) #adding convolution layer \n",
        "    model.add(layers.MaxPool2D(pool_size=(2,2),data_format=\"channels_last\")) # maxpooing the previous layer\n",
        "    model.add(layers.Dropout(rate=0.3)) #helps as a regularizer(weak)\n",
        "\n",
        "    model.add(layers.Conv2D(32,kernel_size=(3,3),activation='relu',kernel_initializer='HeUniform'))\n",
        "    model.add(layers.MaxPool2D(pool_size=(2,2),data_format=\"channels_last\"))\n",
        "    model.add(layers.Dropout(rate=0.3))\n",
        "\n",
        "    model.add(layers.Conv2D(32,kernel_size=(3,3),activation='relu',kernel_initializer='HeUniform'))\n",
        "    model.add(layers.MaxPool2D(pool_size=(2,2),data_format=\"channels_last\"))\n",
        "    model.add(layers.BatchNormalization())\n",
        "    model.add(layers.Dropout(rate=0.3))\n",
        "\n",
        "\n",
        "    model.add(layers.Flatten())  # flattens everything form last layer\n",
        "\n",
        "    model.add(layers.Dense(16,activation='relu',kernel_initializer='HeUniform')) #adding dense layer\n",
        "    model.add(layers.BatchNormalization()) # Performing BatchNormalization on that\n",
        "    model.add(layers.Dropout(rate=0.3))\n",
        "\n",
        "    model.add(layers.Dense(62,activation='softmax')) #Output layer\n",
        "\n",
        "    return model"
      ],
      "execution_count": 15,
      "outputs": []
    },
    {
      "cell_type": "code",
      "metadata": {
        "colab": {
          "base_uri": "https://localhost:8080/"
        },
        "id": "_Hu4Cq-RVor2",
        "outputId": "d610cf53-e707-4dd4-cbba-e1db4d516b35"
      },
      "source": [
        "first_model=SimpleModel()\n",
        "first_model.summary() # Summarize all the layers with corresponing parameters to learn."
      ],
      "execution_count": 16,
      "outputs": [
        {
          "output_type": "stream",
          "text": [
            "Model: \"sequential\"\n",
            "_________________________________________________________________\n",
            "Layer (type)                 Output Shape              Param #   \n",
            "=================================================================\n",
            "conv2d (Conv2D)              (None, 62, 62, 64)        640       \n",
            "_________________________________________________________________\n",
            "max_pooling2d (MaxPooling2D) (None, 31, 31, 64)        0         \n",
            "_________________________________________________________________\n",
            "dropout (Dropout)            (None, 31, 31, 64)        0         \n",
            "_________________________________________________________________\n",
            "conv2d_1 (Conv2D)            (None, 29, 29, 32)        18464     \n",
            "_________________________________________________________________\n",
            "max_pooling2d_1 (MaxPooling2 (None, 14, 14, 32)        0         \n",
            "_________________________________________________________________\n",
            "dropout_1 (Dropout)          (None, 14, 14, 32)        0         \n",
            "_________________________________________________________________\n",
            "conv2d_2 (Conv2D)            (None, 12, 12, 32)        9248      \n",
            "_________________________________________________________________\n",
            "max_pooling2d_2 (MaxPooling2 (None, 6, 6, 32)          0         \n",
            "_________________________________________________________________\n",
            "batch_normalization (BatchNo (None, 6, 6, 32)          128       \n",
            "_________________________________________________________________\n",
            "dropout_2 (Dropout)          (None, 6, 6, 32)          0         \n",
            "_________________________________________________________________\n",
            "flatten (Flatten)            (None, 1152)              0         \n",
            "_________________________________________________________________\n",
            "dense (Dense)                (None, 16)                18448     \n",
            "_________________________________________________________________\n",
            "batch_normalization_1 (Batch (None, 16)                64        \n",
            "_________________________________________________________________\n",
            "dropout_3 (Dropout)          (None, 16)                0         \n",
            "_________________________________________________________________\n",
            "dense_1 (Dense)              (None, 62)                1054      \n",
            "=================================================================\n",
            "Total params: 48,046\n",
            "Trainable params: 47,950\n",
            "Non-trainable params: 96\n",
            "_________________________________________________________________\n"
          ],
          "name": "stdout"
        }
      ]
    },
    {
      "cell_type": "code",
      "metadata": {
        "id": "Ah9vC20iRbyd"
      },
      "source": [
        "\"\"\"\n",
        "Compiling model.\n",
        "\"\"\"\n",
        "\n",
        "first_model.compile(tf.keras.optimizers.Adam(learning_rate=0.009), #using adam optimizer\n",
        "              loss=tf.keras.losses.CategoricalCrossentropy(), # we have multiclass-classification problem\n",
        "              metrics=['accuracy']) #measures models performance\n"
      ],
      "execution_count": 17,
      "outputs": []
    },
    {
      "cell_type": "code",
      "metadata": {
        "colab": {
          "base_uri": "https://localhost:8080/"
        },
        "id": "CEOC1O-ETnLN",
        "outputId": "2e183811-3f0c-4f77-c15b-9ea3d3881189"
      },
      "source": [
        "History=first_model.fit(training_set,epochs=100,verbose=1) # train model for 100 epochs"
      ],
      "execution_count": 18,
      "outputs": [
        {
          "output_type": "stream",
          "text": [
            "Epoch 1/100\n",
            "35/35 [==============================] - 63s 887ms/step - loss: 4.3389 - accuracy: 0.0290\n",
            "Epoch 2/100\n",
            "35/35 [==============================] - 31s 896ms/step - loss: 4.1244 - accuracy: 0.0247\n",
            "Epoch 3/100\n",
            "35/35 [==============================] - 31s 899ms/step - loss: 3.7893 - accuracy: 0.0791\n",
            "Epoch 4/100\n",
            "35/35 [==============================] - 31s 897ms/step - loss: 3.4073 - accuracy: 0.1340\n",
            "Epoch 5/100\n",
            "35/35 [==============================] - 31s 896ms/step - loss: 3.0869 - accuracy: 0.1935\n",
            "Epoch 6/100\n",
            "35/35 [==============================] - 31s 896ms/step - loss: 2.8732 - accuracy: 0.2342\n",
            "Epoch 7/100\n",
            "35/35 [==============================] - 32s 904ms/step - loss: 2.5646 - accuracy: 0.3072\n",
            "Epoch 8/100\n",
            "35/35 [==============================] - 31s 899ms/step - loss: 2.3570 - accuracy: 0.3405\n",
            "Epoch 9/100\n",
            "35/35 [==============================] - 31s 898ms/step - loss: 2.1970 - accuracy: 0.3919\n",
            "Epoch 10/100\n",
            "35/35 [==============================] - 31s 889ms/step - loss: 2.0954 - accuracy: 0.4056\n",
            "Epoch 11/100\n",
            "35/35 [==============================] - 31s 887ms/step - loss: 1.8778 - accuracy: 0.4715\n",
            "Epoch 12/100\n",
            "35/35 [==============================] - 31s 886ms/step - loss: 1.8306 - accuracy: 0.4658\n",
            "Epoch 13/100\n",
            "35/35 [==============================] - 31s 894ms/step - loss: 1.7155 - accuracy: 0.4887\n",
            "Epoch 14/100\n",
            "35/35 [==============================] - 31s 897ms/step - loss: 1.7172 - accuracy: 0.5047\n",
            "Epoch 15/100\n",
            "35/35 [==============================] - 31s 895ms/step - loss: 1.5972 - accuracy: 0.5157\n",
            "Epoch 16/100\n",
            "35/35 [==============================] - 31s 898ms/step - loss: 1.4851 - accuracy: 0.5638\n",
            "Epoch 17/100\n",
            "35/35 [==============================] - 32s 903ms/step - loss: 1.4807 - accuracy: 0.5435\n",
            "Epoch 18/100\n",
            "35/35 [==============================] - 31s 899ms/step - loss: 1.5344 - accuracy: 0.5267\n",
            "Epoch 19/100\n",
            "35/35 [==============================] - 32s 910ms/step - loss: 1.4467 - accuracy: 0.5535\n",
            "Epoch 20/100\n",
            "35/35 [==============================] - 32s 906ms/step - loss: 1.4084 - accuracy: 0.5641\n",
            "Epoch 21/100\n",
            "35/35 [==============================] - 32s 902ms/step - loss: 1.3752 - accuracy: 0.5802\n",
            "Epoch 22/100\n",
            "35/35 [==============================] - 32s 903ms/step - loss: 1.3221 - accuracy: 0.5851\n",
            "Epoch 23/100\n",
            "35/35 [==============================] - 32s 913ms/step - loss: 1.3838 - accuracy: 0.5517\n",
            "Epoch 24/100\n",
            "35/35 [==============================] - 32s 911ms/step - loss: 1.2812 - accuracy: 0.6016\n",
            "Epoch 25/100\n",
            "35/35 [==============================] - 32s 909ms/step - loss: 1.3346 - accuracy: 0.5974\n",
            "Epoch 26/100\n",
            "35/35 [==============================] - 31s 897ms/step - loss: 1.2476 - accuracy: 0.5940\n",
            "Epoch 27/100\n",
            "35/35 [==============================] - 32s 900ms/step - loss: 1.2251 - accuracy: 0.6130\n",
            "Epoch 28/100\n",
            "35/35 [==============================] - 32s 901ms/step - loss: 1.1975 - accuracy: 0.6251\n",
            "Epoch 29/100\n",
            "35/35 [==============================] - 32s 901ms/step - loss: 1.1964 - accuracy: 0.6112\n",
            "Epoch 30/100\n",
            "35/35 [==============================] - 32s 901ms/step - loss: 1.1720 - accuracy: 0.6061\n",
            "Epoch 31/100\n",
            "35/35 [==============================] - 32s 901ms/step - loss: 1.1725 - accuracy: 0.6217\n",
            "Epoch 32/100\n",
            "35/35 [==============================] - 32s 905ms/step - loss: 1.1257 - accuracy: 0.6282\n",
            "Epoch 33/100\n",
            "35/35 [==============================] - 32s 901ms/step - loss: 1.0710 - accuracy: 0.6526\n",
            "Epoch 34/100\n",
            "35/35 [==============================] - 32s 906ms/step - loss: 1.1069 - accuracy: 0.6420\n",
            "Epoch 35/100\n",
            "35/35 [==============================] - 32s 901ms/step - loss: 1.1502 - accuracy: 0.6293\n",
            "Epoch 36/100\n",
            "35/35 [==============================] - 32s 909ms/step - loss: 1.1063 - accuracy: 0.6220\n",
            "Epoch 37/100\n",
            "35/35 [==============================] - 31s 894ms/step - loss: 1.0799 - accuracy: 0.6469\n",
            "Epoch 38/100\n",
            "35/35 [==============================] - 31s 889ms/step - loss: 1.0855 - accuracy: 0.6370\n",
            "Epoch 39/100\n",
            "35/35 [==============================] - 31s 893ms/step - loss: 1.0651 - accuracy: 0.6628\n",
            "Epoch 40/100\n",
            "35/35 [==============================] - 31s 895ms/step - loss: 1.0413 - accuracy: 0.6582\n",
            "Epoch 41/100\n",
            "35/35 [==============================] - 32s 899ms/step - loss: 1.0275 - accuracy: 0.6504\n",
            "Epoch 42/100\n",
            "35/35 [==============================] - 32s 909ms/step - loss: 1.0211 - accuracy: 0.6751\n",
            "Epoch 43/100\n",
            "35/35 [==============================] - 32s 910ms/step - loss: 1.0128 - accuracy: 0.6738\n",
            "Epoch 44/100\n",
            "35/35 [==============================] - 32s 906ms/step - loss: 1.0609 - accuracy: 0.6544\n",
            "Epoch 45/100\n",
            "35/35 [==============================] - 32s 905ms/step - loss: 0.9893 - accuracy: 0.6729\n",
            "Epoch 46/100\n",
            "35/35 [==============================] - 31s 895ms/step - loss: 0.9560 - accuracy: 0.6754\n",
            "Epoch 47/100\n",
            "35/35 [==============================] - 32s 907ms/step - loss: 1.0048 - accuracy: 0.6500\n",
            "Epoch 48/100\n",
            "35/35 [==============================] - 32s 907ms/step - loss: 1.0015 - accuracy: 0.6730\n",
            "Epoch 49/100\n",
            "35/35 [==============================] - 32s 909ms/step - loss: 0.9999 - accuracy: 0.6607\n",
            "Epoch 50/100\n",
            "35/35 [==============================] - 32s 912ms/step - loss: 0.9784 - accuracy: 0.6750\n",
            "Epoch 51/100\n",
            "35/35 [==============================] - 32s 909ms/step - loss: 0.9677 - accuracy: 0.6795\n",
            "Epoch 52/100\n",
            "35/35 [==============================] - 32s 911ms/step - loss: 0.9652 - accuracy: 0.6867\n",
            "Epoch 53/100\n",
            "35/35 [==============================] - 32s 909ms/step - loss: 0.9834 - accuracy: 0.6635\n",
            "Epoch 54/100\n",
            "35/35 [==============================] - 32s 913ms/step - loss: 0.9867 - accuracy: 0.6867\n",
            "Epoch 55/100\n",
            "35/35 [==============================] - 32s 904ms/step - loss: 0.9382 - accuracy: 0.6880\n",
            "Epoch 56/100\n",
            "35/35 [==============================] - 32s 901ms/step - loss: 0.9904 - accuracy: 0.6717\n",
            "Epoch 57/100\n",
            "35/35 [==============================] - 32s 904ms/step - loss: 0.9721 - accuracy: 0.6779\n",
            "Epoch 58/100\n",
            "35/35 [==============================] - 31s 892ms/step - loss: 0.8771 - accuracy: 0.7105\n",
            "Epoch 59/100\n",
            "35/35 [==============================] - 32s 900ms/step - loss: 0.9527 - accuracy: 0.6671\n",
            "Epoch 60/100\n",
            "35/35 [==============================] - 32s 901ms/step - loss: 0.9205 - accuracy: 0.7000\n",
            "Epoch 61/100\n",
            "35/35 [==============================] - 32s 908ms/step - loss: 0.9352 - accuracy: 0.6961\n",
            "Epoch 62/100\n",
            "35/35 [==============================] - 32s 902ms/step - loss: 0.9041 - accuracy: 0.6808\n",
            "Epoch 63/100\n",
            "35/35 [==============================] - 31s 898ms/step - loss: 0.8791 - accuracy: 0.7093\n",
            "Epoch 64/100\n",
            "35/35 [==============================] - 32s 905ms/step - loss: 0.8765 - accuracy: 0.6974\n",
            "Epoch 65/100\n",
            "35/35 [==============================] - 32s 899ms/step - loss: 0.8511 - accuracy: 0.7157\n",
            "Epoch 66/100\n",
            "35/35 [==============================] - 32s 902ms/step - loss: 0.8973 - accuracy: 0.6987\n",
            "Epoch 67/100\n",
            "35/35 [==============================] - 32s 904ms/step - loss: 0.8691 - accuracy: 0.7160\n",
            "Epoch 68/100\n",
            "35/35 [==============================] - 32s 903ms/step - loss: 0.8441 - accuracy: 0.7144\n",
            "Epoch 69/100\n",
            "35/35 [==============================] - 32s 905ms/step - loss: 0.8863 - accuracy: 0.7210\n",
            "Epoch 70/100\n",
            "35/35 [==============================] - 32s 913ms/step - loss: 0.8996 - accuracy: 0.6878\n",
            "Epoch 71/100\n",
            "35/35 [==============================] - 32s 907ms/step - loss: 0.8944 - accuracy: 0.7111\n",
            "Epoch 72/100\n",
            "35/35 [==============================] - 32s 909ms/step - loss: 0.8576 - accuracy: 0.7133\n",
            "Epoch 73/100\n",
            "35/35 [==============================] - 32s 905ms/step - loss: 0.7915 - accuracy: 0.7451\n",
            "Epoch 74/100\n",
            "35/35 [==============================] - 32s 905ms/step - loss: 0.8932 - accuracy: 0.7160\n",
            "Epoch 75/100\n",
            "35/35 [==============================] - 32s 903ms/step - loss: 0.8115 - accuracy: 0.7274\n",
            "Epoch 76/100\n",
            "35/35 [==============================] - 32s 907ms/step - loss: 0.7984 - accuracy: 0.7192\n",
            "Epoch 77/100\n",
            "35/35 [==============================] - 32s 905ms/step - loss: 0.8481 - accuracy: 0.7159\n",
            "Epoch 78/100\n",
            "35/35 [==============================] - 32s 907ms/step - loss: 0.7789 - accuracy: 0.7341\n",
            "Epoch 79/100\n",
            "35/35 [==============================] - 31s 892ms/step - loss: 0.8604 - accuracy: 0.7027\n",
            "Epoch 80/100\n",
            "35/35 [==============================] - 31s 893ms/step - loss: 0.8308 - accuracy: 0.7228\n",
            "Epoch 81/100\n",
            "35/35 [==============================] - 31s 890ms/step - loss: 0.8090 - accuracy: 0.7354\n",
            "Epoch 82/100\n",
            "35/35 [==============================] - 31s 888ms/step - loss: 0.8320 - accuracy: 0.7183\n",
            "Epoch 83/100\n",
            "35/35 [==============================] - 31s 897ms/step - loss: 0.7927 - accuracy: 0.7289\n",
            "Epoch 84/100\n",
            "35/35 [==============================] - 32s 903ms/step - loss: 0.7771 - accuracy: 0.7449\n",
            "Epoch 85/100\n",
            "35/35 [==============================] - 32s 902ms/step - loss: 0.8282 - accuracy: 0.7201\n",
            "Epoch 86/100\n",
            "35/35 [==============================] - 32s 905ms/step - loss: 0.8626 - accuracy: 0.7137\n",
            "Epoch 87/100\n",
            "35/35 [==============================] - 32s 902ms/step - loss: 0.7900 - accuracy: 0.7273\n",
            "Epoch 88/100\n",
            "35/35 [==============================] - 32s 914ms/step - loss: 0.8515 - accuracy: 0.7116\n",
            "Epoch 89/100\n",
            "35/35 [==============================] - 32s 914ms/step - loss: 0.8279 - accuracy: 0.7102\n",
            "Epoch 90/100\n",
            "35/35 [==============================] - 32s 901ms/step - loss: 0.7550 - accuracy: 0.7415\n",
            "Epoch 91/100\n",
            "35/35 [==============================] - 31s 898ms/step - loss: 0.8141 - accuracy: 0.7159\n",
            "Epoch 92/100\n",
            "35/35 [==============================] - 32s 910ms/step - loss: 0.8262 - accuracy: 0.7267\n",
            "Epoch 93/100\n",
            "35/35 [==============================] - 32s 902ms/step - loss: 0.7713 - accuracy: 0.7401\n",
            "Epoch 94/100\n",
            "35/35 [==============================] - 32s 903ms/step - loss: 0.7516 - accuracy: 0.7430\n",
            "Epoch 95/100\n",
            "35/35 [==============================] - 32s 908ms/step - loss: 0.7657 - accuracy: 0.7463\n",
            "Epoch 96/100\n",
            "35/35 [==============================] - 32s 905ms/step - loss: 0.8240 - accuracy: 0.7343\n",
            "Epoch 97/100\n",
            "35/35 [==============================] - 32s 905ms/step - loss: 0.7864 - accuracy: 0.7284\n",
            "Epoch 98/100\n",
            "35/35 [==============================] - 31s 891ms/step - loss: 0.7579 - accuracy: 0.7360\n",
            "Epoch 99/100\n",
            "35/35 [==============================] - 31s 895ms/step - loss: 0.8436 - accuracy: 0.7075\n",
            "Epoch 100/100\n",
            "35/35 [==============================] - 31s 889ms/step - loss: 0.7484 - accuracy: 0.7453\n"
          ],
          "name": "stdout"
        }
      ]
    },
    {
      "cell_type": "code",
      "metadata": {
        "id": "CePJPMR-bbea",
        "colab": {
          "base_uri": "https://localhost:8080/"
        },
        "outputId": "064efae2-f345-4751-ff04-8682315f3204"
      },
      "source": [
        "\"\"\"\n",
        "The loss was reducing up to a certain epoch, so training for more epochs would be beneficial if we change learning rate to a little small,\n",
        "Reducing the learning rate now can lead to faster convergence,  Let's do this experiment and if fail will try to come up with something else.\n",
        "\"\"\"\n",
        "\n",
        "\n",
        "first_model.compile(tf.keras.optimizers.Adam(learning_rate=0.0007),\n",
        "              loss=tf.keras.losses.CategoricalCrossentropy(),\n",
        "              metrics=['accuracy'])\n",
        "\n",
        "History1=first_model.fit(training_set,epochs=20,validation_data=val_set)"
      ],
      "execution_count": 19,
      "outputs": [
        {
          "output_type": "stream",
          "text": [
            "Epoch 1/20\n",
            "35/35 [==============================] - 37s 1s/step - loss: 0.7152 - accuracy: 0.7595 - val_loss: 0.6216 - val_accuracy: 0.8105\n",
            "Epoch 2/20\n",
            "35/35 [==============================] - 35s 1s/step - loss: 0.7240 - accuracy: 0.7625 - val_loss: 0.6118 - val_accuracy: 0.8226\n",
            "Epoch 3/20\n",
            "35/35 [==============================] - 35s 999ms/step - loss: 0.7298 - accuracy: 0.7393 - val_loss: 0.6042 - val_accuracy: 0.8306\n",
            "Epoch 4/20\n",
            "35/35 [==============================] - 35s 993ms/step - loss: 0.7427 - accuracy: 0.7476 - val_loss: 0.5975 - val_accuracy: 0.8226\n",
            "Epoch 5/20\n",
            "35/35 [==============================] - 34s 982ms/step - loss: 0.7107 - accuracy: 0.7537 - val_loss: 0.6050 - val_accuracy: 0.8145\n",
            "Epoch 6/20\n",
            "35/35 [==============================] - 35s 992ms/step - loss: 0.7889 - accuracy: 0.7409 - val_loss: 0.6044 - val_accuracy: 0.8226\n",
            "Epoch 7/20\n",
            "35/35 [==============================] - 35s 991ms/step - loss: 0.6899 - accuracy: 0.7630 - val_loss: 0.5956 - val_accuracy: 0.8226\n",
            "Epoch 8/20\n",
            "35/35 [==============================] - 35s 998ms/step - loss: 0.7114 - accuracy: 0.7530 - val_loss: 0.5918 - val_accuracy: 0.8266\n",
            "Epoch 9/20\n",
            "35/35 [==============================] - 35s 1s/step - loss: 0.6627 - accuracy: 0.7678 - val_loss: 0.5879 - val_accuracy: 0.8226\n",
            "Epoch 10/20\n",
            "35/35 [==============================] - 35s 998ms/step - loss: 0.6777 - accuracy: 0.7580 - val_loss: 0.5843 - val_accuracy: 0.8266\n",
            "Epoch 11/20\n",
            "35/35 [==============================] - 35s 1s/step - loss: 0.7044 - accuracy: 0.7623 - val_loss: 0.5846 - val_accuracy: 0.8266\n",
            "Epoch 12/20\n",
            "35/35 [==============================] - 35s 999ms/step - loss: 0.7068 - accuracy: 0.7470 - val_loss: 0.5992 - val_accuracy: 0.8266\n",
            "Epoch 13/20\n",
            "35/35 [==============================] - 35s 993ms/step - loss: 0.6795 - accuracy: 0.7629 - val_loss: 0.5966 - val_accuracy: 0.8145\n",
            "Epoch 14/20\n",
            "35/35 [==============================] - 35s 994ms/step - loss: 0.7011 - accuracy: 0.7480 - val_loss: 0.6047 - val_accuracy: 0.8065\n",
            "Epoch 15/20\n",
            "35/35 [==============================] - 35s 994ms/step - loss: 0.7091 - accuracy: 0.7596 - val_loss: 0.6098 - val_accuracy: 0.8185\n",
            "Epoch 16/20\n",
            "35/35 [==============================] - 35s 989ms/step - loss: 0.6877 - accuracy: 0.7761 - val_loss: 0.6061 - val_accuracy: 0.8185\n",
            "Epoch 17/20\n",
            "35/35 [==============================] - 35s 998ms/step - loss: 0.6957 - accuracy: 0.7596 - val_loss: 0.5904 - val_accuracy: 0.8347\n",
            "Epoch 18/20\n",
            "35/35 [==============================] - 35s 996ms/step - loss: 0.6811 - accuracy: 0.7754 - val_loss: 0.5872 - val_accuracy: 0.8306\n",
            "Epoch 19/20\n",
            "35/35 [==============================] - 35s 998ms/step - loss: 0.6999 - accuracy: 0.7620 - val_loss: 0.5790 - val_accuracy: 0.8427\n",
            "Epoch 20/20\n",
            "35/35 [==============================] - 35s 1s/step - loss: 0.6651 - accuracy: 0.7838 - val_loss: 0.6023 - val_accuracy: 0.8306\n"
          ],
          "name": "stdout"
        }
      ]
    },
    {
      "cell_type": "code",
      "metadata": {
        "id": "NDMFRPYZkvzt",
        "colab": {
          "base_uri": "https://localhost:8080/"
        },
        "outputId": "fdda12ab-dd5e-4471-a2f5-48f2d8ef26a1"
      },
      "source": [
        "first_model.compile(tf.keras.optimizers.Adam(learning_rate=0.00005),\n",
        "              loss=tf.keras.losses.CategoricalCrossentropy(),\n",
        "              metrics=['accuracy'])\n",
        "\n",
        "History2=first_model.fit(training_set,epochs=5,validation_data=val_set)"
      ],
      "execution_count": 20,
      "outputs": [
        {
          "output_type": "stream",
          "text": [
            "Epoch 1/5\n",
            "35/35 [==============================] - 37s 1s/step - loss: 0.7020 - accuracy: 0.7663 - val_loss: 0.5991 - val_accuracy: 0.8306\n",
            "Epoch 2/5\n",
            "35/35 [==============================] - 35s 992ms/step - loss: 0.6907 - accuracy: 0.7582 - val_loss: 0.5947 - val_accuracy: 0.8347\n",
            "Epoch 3/5\n",
            "35/35 [==============================] - 35s 991ms/step - loss: 0.6792 - accuracy: 0.7558 - val_loss: 0.5941 - val_accuracy: 0.8347\n",
            "Epoch 4/5\n",
            "35/35 [==============================] - 35s 994ms/step - loss: 0.6782 - accuracy: 0.7601 - val_loss: 0.5930 - val_accuracy: 0.8347\n",
            "Epoch 5/5\n",
            "35/35 [==============================] - 35s 1s/step - loss: 0.6650 - accuracy: 0.7697 - val_loss: 0.5912 - val_accuracy: 0.8347\n"
          ],
          "name": "stdout"
        }
      ]
    },
    {
      "cell_type": "code",
      "metadata": {
        "id": "44n1spc6lkvB",
        "colab": {
          "base_uri": "https://localhost:8080/"
        },
        "outputId": "ea41b281-862b-40d7-bfec-6300493d1c1c"
      },
      "source": [
        "\"\"\"\n",
        "Passing complete dataset as a training set for more efficient performance,\n",
        "We Will see how this model perform on testing data directly\n",
        "\"\"\"\n",
        "\n",
        "\n",
        "train_datagen = ImageDataGenerator(rescale = 1./255,  # rescaling the data(MIN-MAX Scaler)\n",
        "                                   data_format='channels_last') # (Batch-Size, height, width, channels)\n",
        "\n",
        "training_set = train_datagen.flow_from_directory('/content/train',  # directory of dataset\n",
        "                                                 target_size = (64, 64), #output image size after loading\n",
        "                                                 batch_size = 64,\n",
        "                                                 class_mode = 'categorical', # we have 62 classes hence it's categorical\n",
        "                                                 color_mode='grayscale',    \n",
        "                                                 shuffle=True)"
      ],
      "execution_count": 21,
      "outputs": [
        {
          "output_type": "stream",
          "text": [
            "Found 2480 images belonging to 62 classes.\n"
          ],
          "name": "stdout"
        }
      ]
    },
    {
      "cell_type": "code",
      "metadata": {
        "id": "iOQ6NElTl5j7",
        "colab": {
          "base_uri": "https://localhost:8080/"
        },
        "outputId": "48fbf6c2-76c9-431f-e83a-c15bf9ca0eca"
      },
      "source": [
        "first_model.compile(tf.keras.optimizers.Adam(learning_rate=0.0007),\n",
        "              loss=tf.keras.losses.CategoricalCrossentropy(),\n",
        "              metrics=['accuracy'])\n",
        "\n",
        "History3=first_model.fit(training_set,epochs=5)"
      ],
      "execution_count": 22,
      "outputs": [
        {
          "output_type": "stream",
          "text": [
            "Epoch 1/5\n",
            "39/39 [==============================] - 36s 908ms/step - loss: 0.7686 - accuracy: 0.7375\n",
            "Epoch 2/5\n",
            "39/39 [==============================] - 35s 905ms/step - loss: 0.8216 - accuracy: 0.7436\n",
            "Epoch 3/5\n",
            "39/39 [==============================] - 35s 905ms/step - loss: 0.7482 - accuracy: 0.7522\n",
            "Epoch 4/5\n",
            "39/39 [==============================] - 35s 895ms/step - loss: 0.7470 - accuracy: 0.7553\n",
            "Epoch 5/5\n",
            "39/39 [==============================] - 35s 890ms/step - loss: 0.7241 - accuracy: 0.7534\n"
          ],
          "name": "stdout"
        }
      ]
    },
    {
      "cell_type": "markdown",
      "metadata": {
        "id": "41sMftfWna_r"
      },
      "source": [
        "Even after giving a complete dataset for training, this model didn't approve and    \n",
        "resulted in failure experiment, "
      ]
    },
    {
      "cell_type": "markdown",
      "metadata": {
        "id": "SxAJRADRmyo6"
      },
      "source": [
        "Let's save model architecture and weights,    \n",
        "If we need any random model to train in the future we'll try out this architecture."
      ]
    },
    {
      "cell_type": "code",
      "metadata": {
        "id": "C-eMPgYbn9IU"
      },
      "source": [
        "os.chdir('/content/')"
      ],
      "execution_count": 23,
      "outputs": []
    },
    {
      "cell_type": "code",
      "metadata": {
        "id": "qPKRHIZ6U5X9"
      },
      "source": [
        "First = first_model.to_json()\n",
        "#save the model architecture to JSON file\n",
        "with open('first_model.json', 'w') as json_file:\n",
        "    json_file.write(First)"
      ],
      "execution_count": 24,
      "outputs": []
    },
    {
      "cell_type": "code",
      "metadata": {
        "id": "EHIPA7S1nQ88"
      },
      "source": [
        "first_model.save('first_model.h5')\n",
        "\n",
        "#saving model weights"
      ],
      "execution_count": 25,
      "outputs": []
    },
    {
      "cell_type": "code",
      "metadata": {
        "id": "2DCp0ZWIrnOK"
      },
      "source": [
        ""
      ],
      "execution_count": 25,
      "outputs": []
    },
    {
      "cell_type": "markdown",
      "metadata": {
        "id": "vlZ4BGF4jEFQ"
      },
      "source": [
        "### 2. Creating More Robust Model\n",
        "\n",
        "In last model we got accuracy ___ which is descent but not too good considering we have 62 classes to deal with.  \n",
        "In this model i'm using Skip Connection which allows to transfer learning from one layer to another(only if dimentions are same). Using this skip connection is a reason for using regularization.   \n",
        "Regularizor to be used as we have less data and most likely we can overfit.  \n",
        "Regularizor can turn out most of kernal weights to zero which can lead to have dead units and which will reduce chances of learning complex feature from the data.   \n",
        "In this case Model uses two skip connection and in each connection model is learning some features so that if any one of the kernal in each of these layers fails to learn(dead units) model will learn from another one as we are using regularizers here.   \n",
        "\n",
        "This architecture is inspired by a parallel resistance.\n"
      ]
    },
    {
      "cell_type": "code",
      "metadata": {
        "id": "SHP8qIzBFF6z"
      },
      "source": [
        "from keras.constraints import max_norm"
      ],
      "execution_count": 26,
      "outputs": []
    },
    {
      "cell_type": "code",
      "metadata": {
        "id": "QkxM4dfpjF95"
      },
      "source": [
        "def MiDasNet():\n",
        "  \"\"\"\n",
        "  As we have connections so working with Sequencial Model is not feasibile.\n",
        "  Hence in this model i'll be using keras Functional API(helps in creating flexible models)\n",
        "\n",
        "  \"\"\"\n",
        "  input=keras.Input(shape=(64,64,1)) #taking input with shape 64*64\n",
        "  input_2=layers.Conv2D(64,3,kernel_initializer='HeNormal',activation='relu',padding='same')(input) # passing input to this conv2d layer \n",
        "\n",
        "  input_2=layers.MaxPooling2D(2,2)(input_2)#passing last layer here for maxpooling \n",
        "  input_3=layers.Conv2D(64,3,padding='same',kernel_initializer='HeNormal',activation='relu')(input_2)\n",
        "\n",
        "  \"\"\"\n",
        "  Now this input_3 will  be used by three layers layer_1,layer_2,layer_3 for leanring more complex features,\n",
        "  Keep in mind that we are using this with kernal_regularizer.\n",
        "  \"\"\"\n",
        "  layer_1=layers.Conv2D(32,1,padding='same',kernel_initializer='HeNormal',activation='relu',kernel_regularizer='l2')(input_3) #connection from input_3 layer to layer_1 \n",
        "  layer_1=layers.BatchNormalization()(layer_1)\n",
        "  layer_1=layers.MaxPooling2D(2,2)(layer_1)\n",
        "  layer_1=layers.Dropout(0.3)(layer_1)\n",
        "\n",
        "  layer_2=layers.Conv2D(32,1,kernel_initializer='HeNormal',activation='relu',kernel_regularizer='l2',padding='same')(input_3) #connection from input_3 layer to layer_2\n",
        "  layer_2=layers.BatchNormalization()(layer_2)\n",
        "  layer_2=layers.MaxPooling2D((2,2))(layer_2)\n",
        "  layer_2=layers.Dropout(0.3)(layer_2)\n",
        "\n",
        "  \"\"\"\n",
        "  Padding here is 'same' for keeping dimentions be equal at ending point of connection.\n",
        "  \"\"\"\n",
        "\n",
        "  layer_3=layers.Conv2D(32,1,kernel_initializer='HeNormal',activation='relu',kernel_regularizer='l2',padding='same')(input_3) #connection from input_3 layer to layer_3\n",
        "  layer_3=layers.BatchNormalization()(layer_3)\n",
        "  layer_3=layers.MaxPooling2D((2,2))(layer_3)\n",
        "  layer_3=layers.Dropout(0.3)(layer_3)\n",
        "\n",
        "  \"\"\"\n",
        "  As we have layer_1, layer_2, layer_3 with same output dimention, we can use Add for adding these tensors.\n",
        "  \"\"\"\n",
        "\n",
        "  sum_out=layers.add([layer_1,layer_2,layer_3])\n",
        "\n",
        "  sum=layers.GlobalMaxPool2D()(sum_out)  #performing global maximum\n",
        "\n",
        "  sum=layers.Flatten()(sum)   # flattens sum tensor to 1d tensor \n",
        "  out=layers.Dense(62,'softmax')(sum) #output layer\n",
        "  model=keras.Model(input,out,name='MiDasNet') # grouping layer into object  https://www.tensorflow.org/api_docs/python/tf/keras/Model\n",
        "  return model"
      ],
      "execution_count": 27,
      "outputs": []
    },
    {
      "cell_type": "code",
      "metadata": {
        "id": "pj0x8ZhqjV_V"
      },
      "source": [
        "second_model=MiDasNet()"
      ],
      "execution_count": 28,
      "outputs": []
    },
    {
      "cell_type": "code",
      "metadata": {
        "id": "TchFUR84oO34",
        "colab": {
          "base_uri": "https://localhost:8080/"
        },
        "outputId": "1e79b4f7-e7f5-4353-aa5e-1cf045027200"
      },
      "source": [
        "second_model.summary() # Summarize all the layers with corresponing parameters to train."
      ],
      "execution_count": 29,
      "outputs": [
        {
          "output_type": "stream",
          "text": [
            "Model: \"MiDasNet\"\n",
            "__________________________________________________________________________________________________\n",
            "Layer (type)                    Output Shape         Param #     Connected to                     \n",
            "==================================================================================================\n",
            "input_1 (InputLayer)            [(None, 64, 64, 1)]  0                                            \n",
            "__________________________________________________________________________________________________\n",
            "conv2d_3 (Conv2D)               (None, 64, 64, 64)   640         input_1[0][0]                    \n",
            "__________________________________________________________________________________________________\n",
            "max_pooling2d_3 (MaxPooling2D)  (None, 32, 32, 64)   0           conv2d_3[0][0]                   \n",
            "__________________________________________________________________________________________________\n",
            "conv2d_4 (Conv2D)               (None, 32, 32, 64)   36928       max_pooling2d_3[0][0]            \n",
            "__________________________________________________________________________________________________\n",
            "conv2d_5 (Conv2D)               (None, 32, 32, 32)   2080        conv2d_4[0][0]                   \n",
            "__________________________________________________________________________________________________\n",
            "conv2d_6 (Conv2D)               (None, 32, 32, 32)   2080        conv2d_4[0][0]                   \n",
            "__________________________________________________________________________________________________\n",
            "conv2d_7 (Conv2D)               (None, 32, 32, 32)   2080        conv2d_4[0][0]                   \n",
            "__________________________________________________________________________________________________\n",
            "batch_normalization_2 (BatchNor (None, 32, 32, 32)   128         conv2d_5[0][0]                   \n",
            "__________________________________________________________________________________________________\n",
            "batch_normalization_3 (BatchNor (None, 32, 32, 32)   128         conv2d_6[0][0]                   \n",
            "__________________________________________________________________________________________________\n",
            "batch_normalization_4 (BatchNor (None, 32, 32, 32)   128         conv2d_7[0][0]                   \n",
            "__________________________________________________________________________________________________\n",
            "max_pooling2d_4 (MaxPooling2D)  (None, 16, 16, 32)   0           batch_normalization_2[0][0]      \n",
            "__________________________________________________________________________________________________\n",
            "max_pooling2d_5 (MaxPooling2D)  (None, 16, 16, 32)   0           batch_normalization_3[0][0]      \n",
            "__________________________________________________________________________________________________\n",
            "max_pooling2d_6 (MaxPooling2D)  (None, 16, 16, 32)   0           batch_normalization_4[0][0]      \n",
            "__________________________________________________________________________________________________\n",
            "dropout_4 (Dropout)             (None, 16, 16, 32)   0           max_pooling2d_4[0][0]            \n",
            "__________________________________________________________________________________________________\n",
            "dropout_5 (Dropout)             (None, 16, 16, 32)   0           max_pooling2d_5[0][0]            \n",
            "__________________________________________________________________________________________________\n",
            "dropout_6 (Dropout)             (None, 16, 16, 32)   0           max_pooling2d_6[0][0]            \n",
            "__________________________________________________________________________________________________\n",
            "add (Add)                       (None, 16, 16, 32)   0           dropout_4[0][0]                  \n",
            "                                                                 dropout_5[0][0]                  \n",
            "                                                                 dropout_6[0][0]                  \n",
            "__________________________________________________________________________________________________\n",
            "global_max_pooling2d (GlobalMax (None, 32)           0           add[0][0]                        \n",
            "__________________________________________________________________________________________________\n",
            "flatten_1 (Flatten)             (None, 32)           0           global_max_pooling2d[0][0]       \n",
            "__________________________________________________________________________________________________\n",
            "dense_2 (Dense)                 (None, 62)           2046        flatten_1[0][0]                  \n",
            "==================================================================================================\n",
            "Total params: 46,238\n",
            "Trainable params: 46,046\n",
            "Non-trainable params: 192\n",
            "__________________________________________________________________________________________________\n"
          ],
          "name": "stdout"
        }
      ]
    },
    {
      "cell_type": "code",
      "metadata": {
        "id": "cuPFIOR1oRaA"
      },
      "source": [
        "\"\"\"\n",
        "Compiling model.\n",
        "\"\"\"\n",
        "\n",
        "second_model.compile(tf.keras.optimizers.Adam(learning_rate=0.001), #using adam optimizer\n",
        "              loss=tf.keras.losses.CategoricalCrossentropy(), # we have multiclass-classification problem\n",
        "              metrics=['accuracy']) #measures how good is this model"
      ],
      "execution_count": 30,
      "outputs": []
    },
    {
      "cell_type": "code",
      "metadata": {
        "id": "XgMTOF01oabu",
        "colab": {
          "base_uri": "https://localhost:8080/"
        },
        "outputId": "60335984-cc5d-45f8-a976-754744a05497"
      },
      "source": [
        "\"\"\"\n",
        "ImageDataGenerator is used as Image data augmentation in real-time but here it is used for rescaling and for loading data.\n",
        "flow_from_directory is used which helps in resizing image and creating batch of themand \n",
        "that will be later passed to model as a input.\n",
        "flow_from_directory automatically infers class label with the folder name. \n",
        "\"\"\"\n",
        "\n",
        "\n",
        "\n",
        "train_datagen = ImageDataGenerator(rescale = 1./255,  # rescaling the data(MIN-MAX Scaler)\n",
        "                                   rotation_range=5,\n",
        "                                   data_format='channels_last') # (Batch-Size, height, width, channels)\n",
        "\n",
        "\"\"\"\n",
        "Model will be trained only on data available and incase if model performance needs more data we will use augmentation techniques, \n",
        "but for now experimenting with the data we have is first choice\n",
        "\"\"\"\n",
        "\n",
        "training_set = train_datagen.flow_from_directory('/content/train',  # directory of dataset\n",
        "                                                 target_size = (64, 64), #output image size after loading\n",
        "                                                 batch_size = 64,\n",
        "                                                 class_mode = 'categorical', # we have 62 classes hence it's categorical\n",
        "                                                 color_mode='grayscale',    \n",
        "                                                 subset=\"training\",\n",
        "                                                 shuffle=True)"
      ],
      "execution_count": 31,
      "outputs": [
        {
          "output_type": "stream",
          "text": [
            "Found 2480 images belonging to 62 classes.\n"
          ],
          "name": "stdout"
        }
      ]
    },
    {
      "cell_type": "code",
      "metadata": {
        "id": "13Qj221MoswA",
        "colab": {
          "base_uri": "https://localhost:8080/"
        },
        "outputId": "2b5a287d-522d-4de2-8ae6-d149e2e2e027"
      },
      "source": [
        "training_set.image_shape\n",
        "\n",
        "#output from this generator will have shape of (batch_size,training_set.image_shape)"
      ],
      "execution_count": 32,
      "outputs": [
        {
          "output_type": "execute_result",
          "data": {
            "text/plain": [
              "(64, 64, 1)"
            ]
          },
          "metadata": {
            "tags": []
          },
          "execution_count": 32
        }
      ]
    },
    {
      "cell_type": "code",
      "metadata": {
        "id": "MUZYJH6wowHT",
        "colab": {
          "base_uri": "https://localhost:8080/"
        },
        "outputId": "6ebc8951-064a-4b6c-8bc9-a35d8fb4188d"
      },
      "source": [
        "history=second_model.fit(training_set,epochs=100,verbose=1) # train model for 100 epochs"
      ],
      "execution_count": 33,
      "outputs": [
        {
          "output_type": "stream",
          "text": [
            "Epoch 1/100\n",
            "39/39 [==============================] - 37s 909ms/step - loss: 18.4608 - accuracy: 0.0163\n",
            "Epoch 2/100\n",
            "39/39 [==============================] - 36s 930ms/step - loss: 6.3352 - accuracy: 0.0127\n",
            "Epoch 3/100\n",
            "39/39 [==============================] - 36s 932ms/step - loss: 5.7573 - accuracy: 0.0130\n",
            "Epoch 4/100\n",
            "39/39 [==============================] - 36s 933ms/step - loss: 5.4975 - accuracy: 0.0221\n",
            "Epoch 5/100\n",
            "39/39 [==============================] - 36s 927ms/step - loss: 5.3555 - accuracy: 0.0294\n",
            "Epoch 6/100\n",
            "39/39 [==============================] - 36s 932ms/step - loss: 5.2398 - accuracy: 0.0266\n",
            "Epoch 7/100\n",
            "39/39 [==============================] - 36s 910ms/step - loss: 5.1259 - accuracy: 0.0295\n",
            "Epoch 8/100\n",
            "39/39 [==============================] - 36s 918ms/step - loss: 5.0377 - accuracy: 0.0302\n",
            "Epoch 9/100\n",
            "39/39 [==============================] - 36s 919ms/step - loss: 4.9179 - accuracy: 0.0282\n",
            "Epoch 10/100\n",
            "39/39 [==============================] - 36s 922ms/step - loss: 4.8271 - accuracy: 0.0351\n",
            "Epoch 11/100\n",
            "39/39 [==============================] - 36s 923ms/step - loss: 4.7644 - accuracy: 0.0457\n",
            "Epoch 12/100\n",
            "39/39 [==============================] - 35s 909ms/step - loss: 4.6628 - accuracy: 0.0595\n",
            "Epoch 13/100\n",
            "39/39 [==============================] - 35s 904ms/step - loss: 4.5857 - accuracy: 0.0538\n",
            "Epoch 14/100\n",
            "39/39 [==============================] - 35s 901ms/step - loss: 4.4975 - accuracy: 0.0592\n",
            "Epoch 15/100\n",
            "39/39 [==============================] - 36s 917ms/step - loss: 4.3988 - accuracy: 0.0761\n",
            "Epoch 16/100\n",
            "39/39 [==============================] - 35s 901ms/step - loss: 4.2673 - accuracy: 0.1045\n",
            "Epoch 17/100\n",
            "39/39 [==============================] - 35s 908ms/step - loss: 4.2237 - accuracy: 0.0805\n",
            "Epoch 18/100\n",
            "39/39 [==============================] - 36s 910ms/step - loss: 4.0508 - accuracy: 0.1152\n",
            "Epoch 19/100\n",
            "39/39 [==============================] - 36s 921ms/step - loss: 3.9305 - accuracy: 0.1264\n",
            "Epoch 20/100\n",
            "39/39 [==============================] - 36s 919ms/step - loss: 3.8759 - accuracy: 0.1267\n",
            "Epoch 21/100\n",
            "39/39 [==============================] - 36s 913ms/step - loss: 3.7378 - accuracy: 0.1513\n",
            "Epoch 22/100\n",
            "39/39 [==============================] - 36s 929ms/step - loss: 3.5672 - accuracy: 0.1685\n",
            "Epoch 23/100\n",
            "39/39 [==============================] - 36s 923ms/step - loss: 3.4769 - accuracy: 0.1662\n",
            "Epoch 24/100\n",
            "39/39 [==============================] - 35s 908ms/step - loss: 3.3244 - accuracy: 0.2066\n",
            "Epoch 25/100\n",
            "39/39 [==============================] - 36s 926ms/step - loss: 3.2179 - accuracy: 0.2307\n",
            "Epoch 26/100\n",
            "39/39 [==============================] - 36s 911ms/step - loss: 3.1577 - accuracy: 0.2361\n",
            "Epoch 27/100\n",
            "39/39 [==============================] - 35s 907ms/step - loss: 3.1135 - accuracy: 0.2352\n",
            "Epoch 28/100\n",
            "39/39 [==============================] - 36s 916ms/step - loss: 3.0057 - accuracy: 0.2621\n",
            "Epoch 29/100\n",
            "39/39 [==============================] - 36s 918ms/step - loss: 2.8610 - accuracy: 0.2831\n",
            "Epoch 30/100\n",
            "39/39 [==============================] - 36s 922ms/step - loss: 2.8044 - accuracy: 0.3102\n",
            "Epoch 31/100\n",
            "39/39 [==============================] - 36s 938ms/step - loss: 2.7461 - accuracy: 0.3171\n",
            "Epoch 32/100\n",
            "39/39 [==============================] - 36s 926ms/step - loss: 2.7072 - accuracy: 0.3022\n",
            "Epoch 33/100\n",
            "39/39 [==============================] - 36s 922ms/step - loss: 2.6180 - accuracy: 0.3361\n",
            "Epoch 34/100\n",
            "39/39 [==============================] - 36s 919ms/step - loss: 2.5813 - accuracy: 0.3378\n",
            "Epoch 35/100\n",
            "39/39 [==============================] - 36s 911ms/step - loss: 2.5127 - accuracy: 0.3357\n",
            "Epoch 36/100\n",
            "39/39 [==============================] - 35s 908ms/step - loss: 2.4633 - accuracy: 0.3718\n",
            "Epoch 37/100\n",
            "39/39 [==============================] - 35s 905ms/step - loss: 2.3896 - accuracy: 0.3636\n",
            "Epoch 38/100\n",
            "39/39 [==============================] - 36s 912ms/step - loss: 2.3971 - accuracy: 0.3606\n",
            "Epoch 39/100\n",
            "39/39 [==============================] - 36s 910ms/step - loss: 2.3075 - accuracy: 0.4146\n",
            "Epoch 40/100\n",
            "39/39 [==============================] - 35s 908ms/step - loss: 2.2435 - accuracy: 0.4031\n",
            "Epoch 41/100\n",
            "39/39 [==============================] - 36s 911ms/step - loss: 2.2702 - accuracy: 0.3897\n",
            "Epoch 42/100\n",
            "39/39 [==============================] - 36s 916ms/step - loss: 2.2184 - accuracy: 0.4060\n",
            "Epoch 43/100\n",
            "39/39 [==============================] - 36s 918ms/step - loss: 2.1413 - accuracy: 0.4336\n",
            "Epoch 44/100\n",
            "39/39 [==============================] - 36s 918ms/step - loss: 2.0742 - accuracy: 0.4425\n",
            "Epoch 45/100\n",
            "39/39 [==============================] - 36s 923ms/step - loss: 2.2008 - accuracy: 0.4082\n",
            "Epoch 46/100\n",
            "39/39 [==============================] - 36s 926ms/step - loss: 2.0269 - accuracy: 0.4532\n",
            "Epoch 47/100\n",
            "39/39 [==============================] - 36s 922ms/step - loss: 2.0326 - accuracy: 0.4589\n",
            "Epoch 48/100\n",
            "39/39 [==============================] - 36s 924ms/step - loss: 1.8918 - accuracy: 0.4863\n",
            "Epoch 49/100\n",
            "39/39 [==============================] - 36s 925ms/step - loss: 1.9398 - accuracy: 0.4516\n",
            "Epoch 50/100\n",
            "39/39 [==============================] - 37s 945ms/step - loss: 1.9159 - accuracy: 0.4862\n",
            "Epoch 51/100\n",
            "39/39 [==============================] - 36s 934ms/step - loss: 1.9191 - accuracy: 0.4604\n",
            "Epoch 52/100\n",
            "39/39 [==============================] - 37s 935ms/step - loss: 1.9034 - accuracy: 0.4759\n",
            "Epoch 53/100\n",
            "39/39 [==============================] - 36s 932ms/step - loss: 1.9568 - accuracy: 0.4539\n",
            "Epoch 54/100\n",
            "39/39 [==============================] - 36s 928ms/step - loss: 1.8474 - accuracy: 0.4875\n",
            "Epoch 55/100\n",
            "39/39 [==============================] - 36s 922ms/step - loss: 1.8644 - accuracy: 0.4869\n",
            "Epoch 56/100\n",
            "39/39 [==============================] - 36s 912ms/step - loss: 1.8028 - accuracy: 0.5142\n",
            "Epoch 57/100\n",
            "39/39 [==============================] - 36s 920ms/step - loss: 1.7758 - accuracy: 0.4994\n",
            "Epoch 58/100\n",
            "39/39 [==============================] - 36s 924ms/step - loss: 1.7413 - accuracy: 0.5240\n",
            "Epoch 59/100\n",
            "39/39 [==============================] - 36s 931ms/step - loss: 1.7529 - accuracy: 0.5151\n",
            "Epoch 60/100\n",
            "39/39 [==============================] - 36s 924ms/step - loss: 1.7346 - accuracy: 0.5106\n",
            "Epoch 61/100\n",
            "39/39 [==============================] - 36s 914ms/step - loss: 1.6733 - accuracy: 0.5215\n",
            "Epoch 62/100\n",
            "39/39 [==============================] - 36s 918ms/step - loss: 1.6608 - accuracy: 0.5328\n",
            "Epoch 63/100\n",
            "39/39 [==============================] - 36s 915ms/step - loss: 1.6646 - accuracy: 0.5253\n",
            "Epoch 64/100\n",
            "39/39 [==============================] - 36s 915ms/step - loss: 1.6046 - accuracy: 0.5637\n",
            "Epoch 65/100\n",
            "39/39 [==============================] - 36s 931ms/step - loss: 1.6372 - accuracy: 0.5381\n",
            "Epoch 66/100\n",
            "39/39 [==============================] - 36s 924ms/step - loss: 1.5763 - accuracy: 0.5638\n",
            "Epoch 67/100\n",
            "39/39 [==============================] - 36s 912ms/step - loss: 1.5728 - accuracy: 0.5628\n",
            "Epoch 68/100\n",
            "39/39 [==============================] - 36s 914ms/step - loss: 1.4932 - accuracy: 0.5738\n",
            "Epoch 69/100\n",
            "39/39 [==============================] - 36s 919ms/step - loss: 1.5054 - accuracy: 0.5890\n",
            "Epoch 70/100\n",
            "39/39 [==============================] - 36s 917ms/step - loss: 1.5423 - accuracy: 0.5645\n",
            "Epoch 71/100\n",
            "39/39 [==============================] - 36s 911ms/step - loss: 1.5034 - accuracy: 0.5691\n",
            "Epoch 72/100\n",
            "39/39 [==============================] - 35s 906ms/step - loss: 1.4685 - accuracy: 0.5859\n",
            "Epoch 73/100\n",
            "39/39 [==============================] - 36s 910ms/step - loss: 1.5023 - accuracy: 0.5921\n",
            "Epoch 74/100\n",
            "39/39 [==============================] - 36s 916ms/step - loss: 1.4853 - accuracy: 0.5859\n",
            "Epoch 75/100\n",
            "39/39 [==============================] - 37s 936ms/step - loss: 1.4257 - accuracy: 0.5977\n",
            "Epoch 76/100\n",
            "39/39 [==============================] - 36s 927ms/step - loss: 1.4228 - accuracy: 0.5997\n",
            "Epoch 77/100\n",
            "39/39 [==============================] - 36s 931ms/step - loss: 1.4835 - accuracy: 0.5794\n",
            "Epoch 78/100\n",
            "39/39 [==============================] - 36s 923ms/step - loss: 1.3561 - accuracy: 0.6213\n",
            "Epoch 79/100\n",
            "39/39 [==============================] - 36s 918ms/step - loss: 1.3413 - accuracy: 0.6316\n",
            "Epoch 80/100\n",
            "39/39 [==============================] - 36s 927ms/step - loss: 1.3759 - accuracy: 0.6265\n",
            "Epoch 81/100\n",
            "39/39 [==============================] - 36s 933ms/step - loss: 1.2733 - accuracy: 0.6236\n",
            "Epoch 82/100\n",
            "39/39 [==============================] - 36s 912ms/step - loss: 1.3174 - accuracy: 0.6309\n",
            "Epoch 83/100\n",
            "39/39 [==============================] - 36s 912ms/step - loss: 1.3242 - accuracy: 0.6300\n",
            "Epoch 84/100\n",
            "39/39 [==============================] - 36s 913ms/step - loss: 1.3043 - accuracy: 0.6394\n",
            "Epoch 85/100\n",
            "39/39 [==============================] - 36s 925ms/step - loss: 1.2762 - accuracy: 0.6366\n",
            "Epoch 86/100\n",
            "39/39 [==============================] - 36s 926ms/step - loss: 1.3017 - accuracy: 0.6243\n",
            "Epoch 87/100\n",
            "39/39 [==============================] - 36s 931ms/step - loss: 1.3019 - accuracy: 0.6305\n",
            "Epoch 88/100\n",
            "39/39 [==============================] - 36s 917ms/step - loss: 1.2487 - accuracy: 0.6570\n",
            "Epoch 89/100\n",
            "39/39 [==============================] - 36s 915ms/step - loss: 1.2693 - accuracy: 0.6404\n",
            "Epoch 90/100\n",
            "39/39 [==============================] - 36s 912ms/step - loss: 1.1813 - accuracy: 0.6736\n",
            "Epoch 91/100\n",
            "39/39 [==============================] - 36s 914ms/step - loss: 1.2394 - accuracy: 0.6310\n",
            "Epoch 92/100\n",
            "39/39 [==============================] - 36s 910ms/step - loss: 1.1634 - accuracy: 0.6632\n",
            "Epoch 93/100\n",
            "39/39 [==============================] - 36s 916ms/step - loss: 1.1765 - accuracy: 0.6612\n",
            "Epoch 94/100\n",
            "39/39 [==============================] - 36s 924ms/step - loss: 1.1493 - accuracy: 0.6830\n",
            "Epoch 95/100\n",
            "39/39 [==============================] - 36s 923ms/step - loss: 1.1355 - accuracy: 0.6754\n",
            "Epoch 96/100\n",
            "39/39 [==============================] - 36s 926ms/step - loss: 1.1763 - accuracy: 0.6563\n",
            "Epoch 97/100\n",
            "39/39 [==============================] - 37s 937ms/step - loss: 1.1116 - accuracy: 0.6799\n",
            "Epoch 98/100\n",
            "39/39 [==============================] - 36s 923ms/step - loss: 1.1311 - accuracy: 0.6753\n",
            "Epoch 99/100\n",
            "39/39 [==============================] - 36s 932ms/step - loss: 1.0999 - accuracy: 0.7003\n",
            "Epoch 100/100\n",
            "39/39 [==============================] - 36s 929ms/step - loss: 1.0578 - accuracy: 0.6829\n"
          ],
          "name": "stdout"
        }
      ]
    },
    {
      "cell_type": "code",
      "metadata": {
        "id": "fXJgUuj8jL_7"
      },
      "source": [
        "\"\"\"\n",
        "Compiling model.\n",
        "\"\"\"\n",
        "\n",
        "second_model.compile(tf.keras.optimizers.Adam(learning_rate=0.0007), #using adam optimizer\n",
        "              loss=tf.keras.losses.CategoricalCrossentropy(), # we have multiclass-classification problem\n",
        "              metrics=['accuracy']) #measures how good is this model\n"
      ],
      "execution_count": 34,
      "outputs": []
    },
    {
      "cell_type": "code",
      "metadata": {
        "id": "ocKQ4Ko6pCKo",
        "colab": {
          "base_uri": "https://localhost:8080/"
        },
        "outputId": "c911f2a5-e794-4bc1-d6b9-290dc33e42ac"
      },
      "source": [
        "\"\"\"\n",
        "Loss is reducing in most of the epochs, so training for more epochs would be beneficial as accuracy might\n",
        "increase and loss might reduce little more.\n",
        "\"\"\"\n",
        "\n",
        "history2=second_model.fit(training_set,epochs=20,verbose=1)"
      ],
      "execution_count": 35,
      "outputs": [
        {
          "output_type": "stream",
          "text": [
            "Epoch 1/20\n",
            "39/39 [==============================] - 37s 931ms/step - loss: 1.1134 - accuracy: 0.6799\n",
            "Epoch 2/20\n",
            "39/39 [==============================] - 36s 926ms/step - loss: 0.9977 - accuracy: 0.7055\n",
            "Epoch 3/20\n",
            "39/39 [==============================] - 36s 931ms/step - loss: 1.0390 - accuracy: 0.6932\n",
            "Epoch 4/20\n",
            "39/39 [==============================] - 36s 932ms/step - loss: 1.0285 - accuracy: 0.7092\n",
            "Epoch 5/20\n",
            "39/39 [==============================] - 37s 937ms/step - loss: 1.0233 - accuracy: 0.6954\n",
            "Epoch 6/20\n",
            "39/39 [==============================] - 36s 925ms/step - loss: 0.9973 - accuracy: 0.7111\n",
            "Epoch 7/20\n",
            "39/39 [==============================] - 36s 914ms/step - loss: 1.0182 - accuracy: 0.7043\n",
            "Epoch 8/20\n",
            "39/39 [==============================] - 36s 921ms/step - loss: 0.9938 - accuracy: 0.7177\n",
            "Epoch 9/20\n",
            "39/39 [==============================] - 36s 924ms/step - loss: 0.9758 - accuracy: 0.7118\n",
            "Epoch 10/20\n",
            "39/39 [==============================] - 36s 924ms/step - loss: 1.0148 - accuracy: 0.7105\n",
            "Epoch 11/20\n",
            "39/39 [==============================] - 36s 935ms/step - loss: 0.9359 - accuracy: 0.7291\n",
            "Epoch 12/20\n",
            "39/39 [==============================] - 36s 936ms/step - loss: 0.9845 - accuracy: 0.7117\n",
            "Epoch 13/20\n",
            "39/39 [==============================] - 36s 920ms/step - loss: 0.8950 - accuracy: 0.7277\n",
            "Epoch 14/20\n",
            "39/39 [==============================] - 36s 928ms/step - loss: 0.9573 - accuracy: 0.7307\n",
            "Epoch 15/20\n",
            "39/39 [==============================] - 36s 924ms/step - loss: 0.9368 - accuracy: 0.7291\n",
            "Epoch 16/20\n",
            "39/39 [==============================] - 36s 921ms/step - loss: 0.9125 - accuracy: 0.7266\n",
            "Epoch 17/20\n",
            "39/39 [==============================] - 36s 923ms/step - loss: 0.9484 - accuracy: 0.7243\n",
            "Epoch 18/20\n",
            "39/39 [==============================] - 36s 922ms/step - loss: 0.9417 - accuracy: 0.7241\n",
            "Epoch 19/20\n",
            "39/39 [==============================] - 36s 925ms/step - loss: 0.9276 - accuracy: 0.7152\n",
            "Epoch 20/20\n",
            "39/39 [==============================] - 36s 935ms/step - loss: 0.9274 - accuracy: 0.7262\n"
          ],
          "name": "stdout"
        }
      ]
    },
    {
      "cell_type": "code",
      "metadata": {
        "id": "XxVdTrVWpIzE",
        "colab": {
          "base_uri": "https://localhost:8080/"
        },
        "outputId": "afc15be7-b156-4d9c-cc05-67561f2fdc4e"
      },
      "source": [
        "\"\"\"\n",
        "Loss is still reducing in most of the epochs, so training for more epochs would be beneficial as accuracy might\n",
        "increase(targrtting 90%+ accuracy) and loss might reduce little more.\n",
        "\"\"\"\n",
        "\n",
        "\n",
        "history3=second_model.fit(training_set,epochs=10,verbose=1)"
      ],
      "execution_count": 36,
      "outputs": [
        {
          "output_type": "stream",
          "text": [
            "Epoch 1/10\n",
            "39/39 [==============================] - 37s 935ms/step - loss: 0.9242 - accuracy: 0.7214\n",
            "Epoch 2/10\n",
            "39/39 [==============================] - 36s 929ms/step - loss: 0.9244 - accuracy: 0.7347\n",
            "Epoch 3/10\n",
            "39/39 [==============================] - 36s 916ms/step - loss: 0.9139 - accuracy: 0.7290\n",
            "Epoch 4/10\n",
            "39/39 [==============================] - 36s 918ms/step - loss: 0.9048 - accuracy: 0.7294\n",
            "Epoch 5/10\n",
            "39/39 [==============================] - 36s 921ms/step - loss: 0.9235 - accuracy: 0.7282\n",
            "Epoch 6/10\n",
            "39/39 [==============================] - 36s 929ms/step - loss: 0.9227 - accuracy: 0.7266\n",
            "Epoch 7/10\n",
            "39/39 [==============================] - 37s 940ms/step - loss: 0.9235 - accuracy: 0.7335\n",
            "Epoch 8/10\n",
            "39/39 [==============================] - 37s 935ms/step - loss: 0.8680 - accuracy: 0.7355\n",
            "Epoch 9/10\n",
            "39/39 [==============================] - 36s 932ms/step - loss: 0.8678 - accuracy: 0.7488\n",
            "Epoch 10/10\n",
            "39/39 [==============================] - 36s 929ms/step - loss: 0.8474 - accuracy: 0.7569\n"
          ],
          "name": "stdout"
        }
      ]
    },
    {
      "cell_type": "code",
      "metadata": {
        "id": "gMAa5ByIpLKI"
      },
      "source": [
        "\"\"\"\n",
        "Reducing learning rate now can lead to faster convergence, Let's do this experiment and if fail\n",
        "i will try to come up something else.\n",
        "\"\"\"\n",
        "\n",
        "\n",
        "second_model.compile(tf.keras.optimizers.Adam(learning_rate=0.0007),\n",
        "              loss=tf.keras.losses.CategoricalCrossentropy(),\n",
        "              metrics=['accuracy'])\n"
      ],
      "execution_count": 37,
      "outputs": []
    },
    {
      "cell_type": "code",
      "metadata": {
        "id": "XulDqo3xpf3f",
        "colab": {
          "base_uri": "https://localhost:8080/"
        },
        "outputId": "a603c727-4744-411a-b293-c71da2400eec"
      },
      "source": [
        "\"\"\"\n",
        "Loss is still reducing in most of the epochs and now i just want loss to reduce a little more \n",
        "to get upto 95%+ accuracy.\n",
        "\"\"\"\n",
        "\n",
        "history4=second_model.fit(training_set,epochs=20,verbose=1)\n"
      ],
      "execution_count": 38,
      "outputs": [
        {
          "output_type": "stream",
          "text": [
            "Epoch 1/20\n",
            "39/39 [==============================] - 37s 923ms/step - loss: 0.8826 - accuracy: 0.7348\n",
            "Epoch 2/20\n",
            "39/39 [==============================] - 35s 907ms/step - loss: 0.8420 - accuracy: 0.7557\n",
            "Epoch 3/20\n",
            "39/39 [==============================] - 36s 912ms/step - loss: 0.8546 - accuracy: 0.7407\n",
            "Epoch 4/20\n",
            "39/39 [==============================] - 36s 912ms/step - loss: 0.8697 - accuracy: 0.7560\n",
            "Epoch 5/20\n",
            "39/39 [==============================] - 36s 927ms/step - loss: 0.8202 - accuracy: 0.7647\n",
            "Epoch 6/20\n",
            "39/39 [==============================] - 36s 915ms/step - loss: 0.8148 - accuracy: 0.7663\n",
            "Epoch 7/20\n",
            "39/39 [==============================] - 36s 915ms/step - loss: 0.8818 - accuracy: 0.7353\n",
            "Epoch 8/20\n",
            "39/39 [==============================] - 36s 922ms/step - loss: 0.7906 - accuracy: 0.7656\n",
            "Epoch 9/20\n",
            "39/39 [==============================] - 36s 915ms/step - loss: 0.8209 - accuracy: 0.7594\n",
            "Epoch 10/20\n",
            "39/39 [==============================] - 36s 925ms/step - loss: 0.8089 - accuracy: 0.7416\n",
            "Epoch 11/20\n",
            "39/39 [==============================] - 36s 934ms/step - loss: 0.8089 - accuracy: 0.7706\n",
            "Epoch 12/20\n",
            "39/39 [==============================] - 36s 930ms/step - loss: 0.7556 - accuracy: 0.7750\n",
            "Epoch 13/20\n",
            "39/39 [==============================] - 36s 929ms/step - loss: 0.8184 - accuracy: 0.7468\n",
            "Epoch 14/20\n",
            "39/39 [==============================] - 36s 929ms/step - loss: 0.7665 - accuracy: 0.7792\n",
            "Epoch 15/20\n",
            "39/39 [==============================] - 36s 915ms/step - loss: 0.8012 - accuracy: 0.7612\n",
            "Epoch 16/20\n",
            "39/39 [==============================] - 36s 918ms/step - loss: 0.7943 - accuracy: 0.7604\n",
            "Epoch 17/20\n",
            "39/39 [==============================] - 37s 938ms/step - loss: 0.7580 - accuracy: 0.7767\n",
            "Epoch 18/20\n",
            "39/39 [==============================] - 37s 936ms/step - loss: 0.7743 - accuracy: 0.7584\n",
            "Epoch 19/20\n",
            "39/39 [==============================] - 36s 918ms/step - loss: 0.7316 - accuracy: 0.7760\n",
            "Epoch 20/20\n",
            "39/39 [==============================] - 36s 934ms/step - loss: 0.7644 - accuracy: 0.7673\n"
          ],
          "name": "stdout"
        }
      ]
    },
    {
      "cell_type": "code",
      "metadata": {
        "id": "vwul6pQRpkiv"
      },
      "source": [
        "\"\"\"\n",
        "Let's reduce learning rate a little so that model can model can converge\n",
        "\"\"\"\n",
        "second_model.compile(tf.keras.optimizers.Adam(learning_rate=0.0001),\n",
        "              loss=tf.keras.losses.CategoricalCrossentropy(),\n",
        "              metrics=['accuracy'])\n"
      ],
      "execution_count": 39,
      "outputs": []
    },
    {
      "cell_type": "code",
      "metadata": {
        "id": "M-OQ0qnZp1iG",
        "colab": {
          "base_uri": "https://localhost:8080/"
        },
        "outputId": "feeffd2b-d7a9-4826-ab6a-4f88e857577a"
      },
      "source": [
        "history5=second_model.fit(training_set,epochs=20)"
      ],
      "execution_count": 40,
      "outputs": [
        {
          "output_type": "stream",
          "text": [
            "Epoch 1/20\n",
            "39/39 [==============================] - 37s 931ms/step - loss: 0.7055 - accuracy: 0.7912\n",
            "Epoch 2/20\n",
            "39/39 [==============================] - 36s 918ms/step - loss: 0.6845 - accuracy: 0.7877\n",
            "Epoch 3/20\n",
            "39/39 [==============================] - 36s 917ms/step - loss: 0.6786 - accuracy: 0.7891\n",
            "Epoch 4/20\n",
            "39/39 [==============================] - 36s 921ms/step - loss: 0.6797 - accuracy: 0.8038\n",
            "Epoch 5/20\n",
            "39/39 [==============================] - 36s 912ms/step - loss: 0.6320 - accuracy: 0.8199\n",
            "Epoch 6/20\n",
            "39/39 [==============================] - 36s 920ms/step - loss: 0.6622 - accuracy: 0.8137\n",
            "Epoch 7/20\n",
            "39/39 [==============================] - 36s 913ms/step - loss: 0.6385 - accuracy: 0.8150\n",
            "Epoch 8/20\n",
            "39/39 [==============================] - 36s 919ms/step - loss: 0.6520 - accuracy: 0.8080\n",
            "Epoch 9/20\n",
            "39/39 [==============================] - 36s 926ms/step - loss: 0.6657 - accuracy: 0.7934\n",
            "Epoch 10/20\n",
            "39/39 [==============================] - 36s 920ms/step - loss: 0.6398 - accuracy: 0.8092\n",
            "Epoch 11/20\n",
            "39/39 [==============================] - 36s 916ms/step - loss: 0.6777 - accuracy: 0.8014\n",
            "Epoch 12/20\n",
            "39/39 [==============================] - 36s 930ms/step - loss: 0.6442 - accuracy: 0.8039\n",
            "Epoch 13/20\n",
            "39/39 [==============================] - 36s 925ms/step - loss: 0.6639 - accuracy: 0.8077\n",
            "Epoch 14/20\n",
            "39/39 [==============================] - 36s 916ms/step - loss: 0.6213 - accuracy: 0.8233\n",
            "Epoch 15/20\n",
            "39/39 [==============================] - 36s 932ms/step - loss: 0.6503 - accuracy: 0.8068\n",
            "Epoch 16/20\n",
            "39/39 [==============================] - 37s 935ms/step - loss: 0.6092 - accuracy: 0.8264\n",
            "Epoch 17/20\n",
            "39/39 [==============================] - 36s 934ms/step - loss: 0.6553 - accuracy: 0.8041\n",
            "Epoch 18/20\n",
            "39/39 [==============================] - 36s 925ms/step - loss: 0.6593 - accuracy: 0.7943\n",
            "Epoch 19/20\n",
            "39/39 [==============================] - 36s 923ms/step - loss: 0.6372 - accuracy: 0.8054\n",
            "Epoch 20/20\n",
            "39/39 [==============================] - 36s 928ms/step - loss: 0.6240 - accuracy: 0.8146\n"
          ],
          "name": "stdout"
        }
      ]
    },
    {
      "cell_type": "markdown",
      "metadata": {
        "id": "9pRIBn-ap2Z8"
      },
      "source": [
        "### Done !!!\n",
        "\n",
        "Still there are chances(possibility) that loss might reduce <1.0 and we can comeup with higher accuracy like 98/99%.   \n",
        "Keeping in mind that my model might be overfit as we had small dataset with higher number of classes.As of now even a simpler model can beat my second model which is little complex but seems to be trustworthy"
      ]
    },
    {
      "cell_type": "code",
      "metadata": {
        "id": "13KzqL15p4zm"
      },
      "source": [
        "second_model.save('second_model.h5') # saving weights\n",
        "\n",
        "Modell = second_model.to_json()\n",
        "#save the model architecture to JSON file\n",
        "with open('second_model.json', 'w') as json_file:\n",
        "    json_file.write(Modell)"
      ],
      "execution_count": 41,
      "outputs": []
    },
    {
      "cell_type": "code",
      "metadata": {
        "id": "ZB_RPdtuDAT9",
        "colab": {
          "base_uri": "https://localhost:8080/",
          "height": 1000
        },
        "outputId": "f5f758db-b482-453f-9627-44bedb99643e"
      },
      "source": [
        "keras.utils.plot_model(second_model)"
      ],
      "execution_count": 42,
      "outputs": [
        {
          "output_type": "execute_result",
          "data": {
            "image/png": "[encoded data removed]",
            "text/plain": [
              "<IPython.core.display.Image object>"
            ]
          },
          "metadata": {
            "tags": []
          },
          "execution_count": 42
        }
      ]
    },
    {
      "cell_type": "code",
      "metadata": {
        "id": "OAUyj5z7q2gl",
        "colab": {
          "base_uri": "https://localhost:8080/",
          "height": 1000
        },
        "outputId": "61a61952-0078-446c-c8a3-15a6f0570c6b"
      },
      "source": [
        "keras.utils.plot_model(first_model)"
      ],
      "execution_count": 43,
      "outputs": [
        {
          "output_type": "execute_result",
          "data": {
            "image/png": "[encoded data removed]",
            "text/plain": [
              "<IPython.core.display.Image object>"
            ]
          },
          "metadata": {
            "tags": []
          },
          "execution_count": 43
        }
      ]
    },
    {
      "cell_type": "markdown",
      "metadata": {
        "id": "JuYmJ4SWPjJR"
      },
      "source": [
        "Summarising first_model and second_model through plot"
      ]
    },
    {
      "cell_type": "code",
      "metadata": {
        "colab": {
          "base_uri": "https://localhost:8080/",
          "height": 295
        },
        "id": "brn42hCEOCkT",
        "outputId": "9af2956a-9744-4fea-8f36-c81ae978acee"
      },
      "source": [
        "plt.plot(History.history['accuracy'])\n",
        "plt.plot(History1.history['accuracy'])\n",
        "plt.plot(History2.history['accuracy'])\n",
        "plt.plot(History3.history['accuracy'])\n",
        "plt.title('model accuracy on first_model')\n",
        "plt.ylabel('accuracy')\n",
        "plt.xlabel('epoch')\n",
        "plt.legend(['learning_rate=0.009','learning_rate=0.0007','learning_rate=0.00005','learning_rate=0.0007'], loc='lower right')\n",
        "plt.show()"
      ],
      "execution_count": 46,
      "outputs": [
        {
          "output_type": "display_data",
          "data": {
            "image/png": "[encoded data removed]",
            "text/plain": [
              "<Figure size 432x288 with 1 Axes>"
            ]
          },
          "metadata": {
            "tags": [],
            "needs_background": "light"
          }
        }
      ]
    },
    {
      "cell_type": "code",
      "metadata": {
        "colab": {
          "base_uri": "https://localhost:8080/",
          "height": 295
        },
        "id": "p2zf3eWzODaI",
        "outputId": "9f38bd02-dc77-4c8b-dbda-54933ff18bff"
      },
      "source": [
        "plt.plot(history.history['accuracy'])\n",
        "plt.plot(history2.history['accuracy'])\n",
        "plt.plot(history3.history['accuracy'])\n",
        "plt.plot(history4.history['accuracy'])\n",
        "plt.plot(history5.history['accuracy'])\n",
        "plt.title('model accuracy on second_model')\n",
        "plt.ylabel('accuracy')\n",
        "plt.xlabel('epoch')\n",
        "plt.legend(['learning_rate=0.001','learning_rate=0.0007','learning_rate=0.0007','learning_rate=0.0007','learning_rate=0.0001'], loc='lower right')\n",
        "plt.show()"
      ],
      "execution_count": 48,
      "outputs": [
        {
          "output_type": "display_data",
          "data": {
            "image/png": "[encoded data removed]",
            "text/plain": [
              "<Figure size 432x288 with 1 Axes>"
            ]
          },
          "metadata": {
            "tags": [],
            "needs_background": "light"
          }
        }
      ]
    },
    {
      "cell_type": "markdown",
      "metadata": {
        "id": "pg6n2euPTDSz"
      },
      "source": [
        "If we look at performance we did pretty descent job, Learning rate is always tricky to choose but standard choices makes this job little easy.   \n"
      ]
    },
    {
      "cell_type": "code",
      "metadata": {
        "id": "bw4Y3uVuS7xP"
      },
      "source": [
        ""
      ],
      "execution_count": null,
      "outputs": []
    }
  ]
}